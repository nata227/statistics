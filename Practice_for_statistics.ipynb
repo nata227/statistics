{
 "cells": [
  {
   "cell_type": "code",
   "execution_count": 1,
   "id": "842c5342",
   "metadata": {},
   "outputs": [],
   "source": [
    "import pandas as pd\n",
    "import numpy as np\n",
    "from scipy import stats\n",
    "import matplotlib.pyplot as plt\n",
    "from statsmodels.distributions.empirical_distribution import ECDF"
   ]
  },
  {
   "cell_type": "markdown",
   "id": "f58dfffe",
   "metadata": {},
   "source": [
    "## Задание 1. Базовые описательные статистики"
   ]
  },
  {
   "cell_type": "markdown",
   "id": "1f4b4fa8",
   "metadata": {},
   "source": [
    "**1.1. Основные характеристики выборки (20 баллов)**"
   ]
  },
  {
   "cell_type": "markdown",
   "id": "0f97cc7a",
   "metadata": {},
   "source": [
    "1. Создайте выборку объемом n = 100 из равномерного на [-20, 18] распределения "
   ]
  },
  {
   "cell_type": "code",
   "execution_count": 2,
   "id": "c38a7855",
   "metadata": {},
   "outputs": [
    {
     "data": {
      "text/plain": [
       "array([-14.19877807,  -8.51044883, -17.64261624,  -2.52530702,\n",
       "        11.73962861,  15.22588781,   7.6255814 ,   9.20285643,\n",
       "        -9.77020747,   4.4731131 , -16.45181624, -16.97193635,\n",
       "         2.40532263,  -6.95305955,  17.57729365,   3.80598184,\n",
       "         5.90761263,   0.98575892,  -9.7833178 ,  -5.81614332,\n",
       "       -11.52873224, -12.91518119,  -5.15537245, -12.65982859,\n",
       "         3.21461539,  13.546721  ,   3.64887532, -10.38148012,\n",
       "       -13.16264834,  11.02336985, -11.43587841,  -0.35942868,\n",
       "        -0.29715887,   2.81424756,   0.23957835, -19.49421811,\n",
       "        -0.08430403,  14.04361914,   9.25624919, -15.33163555,\n",
       "        -8.75683762,   3.25689601,   7.59324864,  -2.3870961 ,\n",
       "         9.22619395, -12.71802082,   1.19893543,   0.92956997,\n",
       "        -2.05543132,  10.0916285 , -15.62051223,   5.88954813,\n",
       "        -6.23132278,  -6.92006204,  -2.9182875 , -18.9761941 ,\n",
       "        -4.22058779,  15.04480473, -16.53418831,  -8.02537236,\n",
       "         0.06484528,  -7.53364283,  -2.94120933, -19.37929222,\n",
       "       -16.3129777 ,   6.31836579,  11.76584956,  -3.87576439,\n",
       "        12.25342355,   0.77806601,  -6.54406858,   7.63548792,\n",
       "       -16.43363622,  13.92863425,  -7.22218525,  13.88964182,\n",
       "        -8.71973808,  -8.53736498,  10.63714312,  11.82917877,\n",
       "         4.10269048,  -8.16956242, -18.88095399,  -4.80846198,\n",
       "        -0.30940871, -19.71923887,   9.44801551,  12.46990543,\n",
       "       -15.00175296,  -9.06840153,  -7.58962507,  14.44926312,\n",
       "        17.98326264,   9.29360311, -18.37179434,  16.679542  ,\n",
       "        17.05807342, -12.30436148,   5.83441599,  -2.31688758])"
      ]
     },
     "execution_count": 2,
     "metadata": {},
     "output_type": "execute_result"
    }
   ],
   "source": [
    "sample_1 = stats.uniform(-20, 38).rvs(100, random_state=777)\n",
    "sample_1"
   ]
  },
  {
   "cell_type": "markdown",
   "id": "0d6e0663",
   "metadata": {},
   "source": [
    "2. Создайте выборку объемом n=100 из нормального распределения с параметрами μ = 15 и σ^2 = 1."
   ]
  },
  {
   "cell_type": "code",
   "execution_count": 3,
   "id": "4738fe91",
   "metadata": {},
   "outputs": [
    {
     "data": {
      "text/plain": [
       "array([14.53179121, 14.17717515, 14.9346199 , 14.28663808, 15.90635089,\n",
       "       15.76623673, 15.82605407, 13.67631721, 13.24755548, 16.00244907,\n",
       "       15.54480945, 16.8951609 , 14.23064255, 13.59690408, 14.36753249,\n",
       "       14.44112633, 13.76676862, 14.56049648, 15.91478726, 15.26504093,\n",
       "       13.61662985, 15.6855118 , 15.45609091, 14.53862574, 15.0947003 ,\n",
       "       13.45718839, 17.4793696 , 15.45686676, 14.68612722, 15.02103738,\n",
       "       15.96079316, 15.0584829 , 14.55396783, 15.31919714, 15.84116862,\n",
       "       13.46723801, 14.71841574, 16.74445271, 14.32576109, 15.58840123,\n",
       "       16.80436346, 17.05625026, 16.45458168, 14.86158831, 15.34287188,\n",
       "       14.27238152, 13.5960539 , 13.75938881, 14.55651783, 14.95267484,\n",
       "       15.75768436, 14.84791407, 14.72872099, 14.40016003, 12.97309587,\n",
       "       15.3303424 , 14.669169  , 14.96505784, 15.28974804, 14.39373005,\n",
       "       14.73159572, 16.19147752, 15.15761331, 16.17482475, 16.32091002,\n",
       "       14.15196271, 15.7457074 , 14.6883787 , 13.94893462, 13.92350317,\n",
       "       15.45060965, 15.40874082, 13.57045848, 16.01742721, 14.91822926,\n",
       "       14.61608157, 14.76177483, 15.00878862, 15.52046838, 15.40370452,\n",
       "       14.59821782, 14.30275474, 15.64598273, 14.72446686, 14.62078971,\n",
       "       16.96803502, 15.20249694, 15.37269727, 15.98134598, 15.73646232,\n",
       "       16.4113008 , 14.87348228, 15.55315734, 14.18446401, 15.53870252,\n",
       "       12.78220503, 14.09370782, 13.53787512, 14.32243512, 16.5228038 ])"
      ]
     },
     "execution_count": 3,
     "metadata": {},
     "output_type": "execute_result"
    }
   ],
   "source": [
    "sample_2 = stats.norm(15, 1).rvs(100, random_state=777)\n",
    "sample_2"
   ]
  },
  {
   "cell_type": "markdown",
   "id": "1544c055",
   "metadata": {},
   "source": [
    "3. Создайте выборку объемом n=100 из показательного распределения с параметром λ = 1/31 ."
   ]
  },
  {
   "cell_type": "code",
   "execution_count": 4,
   "id": "854496f2",
   "metadata": {},
   "outputs": [
    {
     "data": {
      "text/plain": [
       "array([0.19791572, 0.39230527, 0.09630222, 0.64818561, 1.83560471,\n",
       "       2.64951346, 1.3305012 , 1.49541715, 0.34588045, 1.0651649 ,\n",
       "       0.13028251, 0.1152983 , 0.92291456, 0.45284778, 4.53092176,\n",
       "       1.0170236 , 1.17726811, 0.83579352, 0.34540846, 0.49948058,\n",
       "       0.28448046, 0.23859686, 0.5276174 , 0.24689094, 0.97620506,\n",
       "       2.17620354, 1.00601591, 0.3241074 , 0.23062402, 1.72727821,\n",
       "       0.28762994, 0.75970096, 0.76309843, 0.94948658, 0.79287175,\n",
       "       0.04565749, 0.77479984, 2.29451454, 1.50150497, 0.16333726,\n",
       "       0.38305417, 0.97906878, 1.32738946, 0.65494207, 1.49807353,\n",
       "       0.24499474, 0.84840197, 0.8324965 , 0.67134422, 1.60192234,\n",
       "       0.15470786, 1.17577535, 0.4821981 , 0.45417104, 0.62922045,\n",
       "       0.05956992, 0.56882499, 2.5862795 , 0.12789443, 0.4107723 ,\n",
       "       0.78308149, 0.42984731, 0.62812527, 0.04872736, 0.13432058,\n",
       "       1.21182634, 1.83980191, 0.58446485, 1.92123995, 0.82366042,\n",
       "       0.469374  , 1.33145655, 0.13081034, 2.26586571, 0.44212025,\n",
       "       2.25633405, 0.38444168, 0.39129049, 1.6733962 , 1.85001229,\n",
       "       1.03814896, 0.40524723, 0.06214896, 0.54271262, 0.76242916,\n",
       "       0.03967395, 1.52368086, 1.95963931, 0.17328354, 0.37147717,\n",
       "       0.42765723, 2.40268907, 7.75995641, 1.50578619, 0.07605063,\n",
       "       3.39186558, 3.72967217, 0.25855258, 1.17123324, 0.65839178])"
      ]
     },
     "execution_count": 4,
     "metadata": {},
     "output_type": "execute_result"
    }
   ],
   "source": [
    "sample_3 = stats.expon(1/31).rvs(100, random_state=777)\n",
    "sample_3"
   ]
  },
  {
   "cell_type": "markdown",
   "id": "8363ec12",
   "metadata": {},
   "source": [
    "4. Для построенных выборок найдите значения:\n",
    "    - Первого и последнего члена вариационного ряда\n",
    "    - Выборочного среднего\n",
    "    - Выборочной стандартной ошибки \n",
    "    - Выборочной медианы\n"
   ]
  },
  {
   "cell_type": "code",
   "execution_count": 5,
   "id": "c5bcbef5",
   "metadata": {},
   "outputs": [
    {
     "name": "stdout",
     "output_type": "stream",
     "text": [
      "Первый член вариационного ряда для sample_1: -19.71923886717218 \n",
      "Последний член вариационного ряда для sample_1: 17.983262644185977 \n",
      "Выборочное среднее для sample_1: -1.5444719299922804 \n",
      "Выборочная стандартная ошибка для sample_1: 1.0768079855853037 \n",
      "Выборочная медиана для sample_1: -2.1861594526700756\n"
     ]
    }
   ],
   "source": [
    "print('Первый член вариационного ряда для sample_1:', sample_1.min(), '\\n'\n",
    "      'Последний член вариационного ряда для sample_1:', sample_1.max(), '\\n'\n",
    "      'Выборочное среднее для sample_1:', sample_1.mean(), '\\n'\n",
    "      'Выборочная стандартная ошибка для sample_1:', stats.sem(sample_1), '\\n'\n",
    "      'Выборочная медиана для sample_1:', np.median(sample_1))"
   ]
  },
  {
   "cell_type": "code",
   "execution_count": 6,
   "id": "7039aa13",
   "metadata": {},
   "outputs": [
    {
     "name": "stdout",
     "output_type": "stream",
     "text": [
      "Первый член вариационного ряда для sample_2: 12.782205034299336 \n",
      "Последний член вариационного ряда для sample_2: 17.479369598245846 \n",
      "Выборочное среднее для sample_2: 15.007053529212465 \n",
      "Выборочная стандартная ошибка для sample_2: 0.0963403610036111 \n",
      "Выборочная медиана для sample_2: 14.943647367905745\n"
     ]
    }
   ],
   "source": [
    "print('Первый член вариационного ряда для sample_2:', sample_2.min(), '\\n'\n",
    "      'Последний член вариационного ряда для sample_2:', sample_2.max(), '\\n'\n",
    "      'Выборочное среднее для sample_2:', sample_2.mean(), '\\n'\n",
    "      'Выборочная стандартная ошибка для sample_2:', stats.sem(sample_2), '\\n'\n",
    "      'Выборочная медиана для sample_2:', np.median(sample_2))"
   ]
  },
  {
   "cell_type": "code",
   "execution_count": 7,
   "id": "f0d2901f",
   "metadata": {},
   "outputs": [
    {
     "name": "stdout",
     "output_type": "stream",
     "text": [
      "Первый член вариационного ряда для sample_3: 0.039673945175751665 \n",
      "Последний член вариационного ряда для sample_3: 7.7599564067911215 \n",
      "Выборочное среднее для sample_3: 0.9970624685190637 \n",
      "Выборочная стандартная ошибка для sample_3: 0.10852289070320384 \n",
      "Выборочная медиана для sample_3: 0.6648680008349548\n"
     ]
    }
   ],
   "source": [
    "print('Первый член вариационного ряда для sample_3:', sample_3.min(), '\\n'\n",
    "      'Последний член вариационного ряда для sample_3:', sample_3.max(), '\\n'\n",
    "      'Выборочное среднее для sample_3:', sample_3.mean(), '\\n'\n",
    "      'Выборочная стандартная ошибка для sample_3:', stats.sem(sample_3), '\\n'\n",
    "      'Выборочная медиана для sample_3:', np.median(sample_3))"
   ]
  },
  {
   "cell_type": "markdown",
   "id": "8ef9a11e",
   "metadata": {},
   "source": [
    "5. Для построенных выборок постройте диаграмму рассеяния"
   ]
  },
  {
   "cell_type": "code",
   "execution_count": 8,
   "id": "432ffb30",
   "metadata": {},
   "outputs": [],
   "source": [
    "def create(sample):\n",
    "    df = pd.DataFrame({'numbers': sample})\n",
    "    df['indexes']=np.arange(1, len(df)+1)\n",
    "    return(df)"
   ]
  },
  {
   "cell_type": "code",
   "execution_count": 9,
   "id": "8e03e9b4",
   "metadata": {},
   "outputs": [],
   "source": [
    "df_1 = create(sample_1)\n",
    "df_2 = create(sample_2)\n",
    "df_3 = create(sample_3)"
   ]
  },
  {
   "cell_type": "code",
   "execution_count": 10,
   "id": "fefa97af",
   "metadata": {},
   "outputs": [
    {
     "data": {
      "image/png": "[encoded data removed]",
      "text/plain": [
       "<Figure size 800x600 with 1 Axes>"
      ]
     },
     "metadata": {},
     "output_type": "display_data"
    }
   ],
   "source": [
    "fig, ax = plt.subplots(figsize=(8,6))\n",
    "ax.scatter(df_1['indexes'], df_1['numbers'], s = 15);\n",
    "ax.set_title('Диаграмма рассеивания для sample_1', fontsize = 15, fontweight='bold');\n",
    "ax.set_xlabel('Номер наблюдения', fontsize = 10);\n",
    "ax.set_ylabel('Значения этого наблюдения', fontsize = 10);"
   ]
  },
  {
   "cell_type": "code",
   "execution_count": 11,
   "id": "df75a4e2",
   "metadata": {},
   "outputs": [
    {
     "data": {
      "image/png": "[encoded data removed]",
      "text/plain": [
       "<Figure size 800x600 with 1 Axes>"
      ]
     },
     "metadata": {},
     "output_type": "display_data"
    }
   ],
   "source": [
    "fig, ax = plt.subplots(figsize=(8,6))\n",
    "ax.scatter(df_2['indexes'], df_2['numbers'], s = 15);\n",
    "ax.set_title('Диаграмма рассеивания для sample_2', fontsize = 15, fontweight='bold');\n",
    "ax.set_xlabel('Номер наблюдения', fontsize = 10);\n",
    "ax.set_ylabel('Значения этого наблюдения', fontsize = 10);"
   ]
  },
  {
   "cell_type": "code",
   "execution_count": 12,
   "id": "584cf470",
   "metadata": {},
   "outputs": [
    {
     "data": {
      "image/png": "[encoded data removed]",
      "text/plain": [
       "<Figure size 800x600 with 1 Axes>"
      ]
     },
     "metadata": {},
     "output_type": "display_data"
    }
   ],
   "source": [
    "fig, ax = plt.subplots(figsize=(8,6))\n",
    "ax.scatter(df_3['indexes'], df_3['numbers'], s = 15);\n",
    "ax.set_title('Диаграмма рассеивания для sample_3', fontsize = 15, fontweight='bold');\n",
    "ax.set_xlabel('Номер наблюдения', fontsize = 10);\n",
    "ax.set_ylabel('Значения этого наблюдения', fontsize = 10);"
   ]
  },
  {
   "cell_type": "code",
   "execution_count": 13,
   "id": "92c41f54",
   "metadata": {},
   "outputs": [
    {
     "data": {
      "image/png": "[encoded data removed]",
      "text/plain": [
       "<Figure size 4000x1300 with 3 Axes>"
      ]
     },
     "metadata": {},
     "output_type": "display_data"
    }
   ],
   "source": [
    "fig = plt.figure(figsize=(40, 13))\n",
    "ax_1 = fig.add_subplot(1, 3, 1)\n",
    "ax_1 = plt.scatter(df_1['indexes'], df_1['numbers'])\n",
    "\n",
    "ax_2 = fig.add_subplot(1, 3, 2)\n",
    "ax_2 = plt.scatter(df_2['indexes'], df_2['numbers'])\n",
    "\n",
    "ax_3 = fig.add_subplot(1, 3, 3)\n",
    "ax_3 = plt.scatter(df_3['indexes'], df_3['numbers'])\n"
   ]
  },
  {
   "cell_type": "markdown",
   "id": "4854b71e",
   "metadata": {},
   "source": [
    "6. Для построенных выборок разделите ось абсцисс на 10 равных отрезков, рассчитайте количество значений в каждом из них и постройте гистограмму"
   ]
  },
  {
   "cell_type": "code",
   "execution_count": 14,
   "id": "49a04b2d",
   "metadata": {},
   "outputs": [
    {
     "data": {
      "image/png": "[encoded data removed]",
      "text/plain": [
       "<Figure size 640x480 with 1 Axes>"
      ]
     },
     "metadata": {},
     "output_type": "display_data"
    }
   ],
   "source": [
    "df_1['numbers'].hist(bins = 10)\n",
    "plt.title('Гистограмма для sample_1', fontsize = 15, fontweight='bold');\n",
    "plt.xlabel ('Значения выборки');\n",
    "plt.ylabel('Частота');"
   ]
  },
  {
   "cell_type": "code",
   "execution_count": 15,
   "id": "c6bf52b7",
   "metadata": {},
   "outputs": [
    {
     "data": {
      "image/png": "[encoded data removed]",
      "text/plain": [
       "<Figure size 640x480 with 1 Axes>"
      ]
     },
     "metadata": {},
     "output_type": "display_data"
    }
   ],
   "source": [
    "df_2['numbers'].hist(bins = 10)\n",
    "plt.title('Гистограмма для sample_2', fontsize = 15, fontweight='bold');\n",
    "plt.xlabel ('Значения выборки');\n",
    "plt.ylabel('Частота');"
   ]
  },
  {
   "cell_type": "code",
   "execution_count": 16,
   "id": "91502379",
   "metadata": {
    "scrolled": true
   },
   "outputs": [
    {
     "data": {
      "image/png": "[encoded data removed]",
      "text/plain": [
       "<Figure size 640x480 with 1 Axes>"
      ]
     },
     "metadata": {},
     "output_type": "display_data"
    }
   ],
   "source": [
    "df_3['numbers'].hist(bins = 10)\n",
    "plt.title('Гистограмма для sample_3', fontsize = 15, fontweight='bold');\n",
    "plt.xlabel ('Значения выборки');\n",
    "plt.ylabel('Частота');"
   ]
  },
  {
   "cell_type": "markdown",
   "id": "efb25a60",
   "metadata": {},
   "source": [
    "7. Для построенных выборок постройте выборочную функцию распределения и теоретическую функцию распределения. Сравните  теоретическое и выборочное распределения\n"
   ]
  },
  {
   "cell_type": "code",
   "execution_count": 17,
   "id": "efcc6736",
   "metadata": {},
   "outputs": [],
   "source": [
    "uniform = stats.uniform(-20, 38)\n",
    "norm = stats.norm(15, 1)\n",
    "pokaz = stats.expon(1/31)"
   ]
  },
  {
   "cell_type": "code",
   "execution_count": 18,
   "id": "1d5543bf",
   "metadata": {},
   "outputs": [
    {
     "data": {
      "image/png": "[encoded data removed]",
      "text/plain": [
       "<Figure size 640x480 with 1 Axes>"
      ]
     },
     "metadata": {},
     "output_type": "display_data"
    }
   ],
   "source": [
    "x = np.linspace(-21, 20, 100)\n",
    "# теоретическа cdf \n",
    "cdf = stats.uniform.cdf(x, -20, 38)\n",
    "plt.plot(x, cdf, label='theoretical CDF')\n",
    "# эмпирическая сdf\n",
    "ecdf = ECDF(sample_1)\n",
    "plt.step(ecdf.x, ecdf.y, label='empirical CDF')\n",
    "\n",
    "plt.title('Выборочная функция распределения и теоретическая функция распределения для sample_1',\n",
    "          fontsize = 15, fontweight='bold');\n",
    "plt.ylabel('$F(x)$', fontsize = 14)\n",
    "plt.xlabel('$x$', fontsize = 14)\n",
    "plt.legend(loc='upper left');"
   ]
  },
  {
   "cell_type": "code",
   "execution_count": 19,
   "id": "3f0b7930",
   "metadata": {},
   "outputs": [
    {
     "data": {
      "image/png": "[encoded data removed]",
      "text/plain": [
       "<Figure size 640x480 with 1 Axes>"
      ]
     },
     "metadata": {},
     "output_type": "display_data"
    }
   ],
   "source": [
    "x = np.linspace(12, 18, 200)\n",
    "# теоретическа cdf \n",
    "cdf = stats.norm(15, 1).cdf(x)\n",
    "plt.plot(x, cdf, label='theoretical CDF')\n",
    "# эмпирическая сdf\n",
    "ecdf = ECDF(sample_2)\n",
    "plt.step(ecdf.x, ecdf.y, label='empirical CDF')\n",
    "\n",
    "plt.title('Выборочная функция распределения и теоретическая функция распределения для sample_2',\n",
    "          fontsize = 15, fontweight='bold');\n",
    "plt.ylabel('$F(x)$', fontsize = 14)\n",
    "plt.xlabel('$x$', fontsize = 14)\n",
    "plt.legend(loc='upper left');"
   ]
  },
  {
   "cell_type": "code",
   "execution_count": 20,
   "id": "3fdfdd8f",
   "metadata": {},
   "outputs": [
    {
     "data": {
      "image/png": "[encoded data removed]",
      "text/plain": [
       "<Figure size 640x480 with 1 Axes>"
      ]
     },
     "metadata": {},
     "output_type": "display_data"
    }
   ],
   "source": [
    "x = np.linspace(0, 8, 10)\n",
    "# теоретическа cdf \n",
    "cdf = stats.expon(1/31).cdf(x)\n",
    "plt.plot(x, cdf, label='theoretical CDF')\n",
    "# эмпирическая сdf\n",
    "ecdf = ECDF(sample_3)\n",
    "plt.step(ecdf.x, ecdf.y, label='empirical CDF')\n",
    "\n",
    "plt.title('Выборочная функция распределения и теоретическая функция распределения для sample_3',\n",
    "          fontsize = 15, fontweight='bold');\n",
    "plt.ylabel('$F(x)$', fontsize = 14)\n",
    "plt.xlabel('$x$', fontsize = 14)\n",
    "plt.legend(loc='upper left');"
   ]
  },
  {
   "cell_type": "code",
   "execution_count": 21,
   "id": "1c2c3ca6",
   "metadata": {},
   "outputs": [
    {
     "data": {
      "text/html": [
       "<div>\n",
       "<style scoped>\n",
       "    .dataframe tbody tr th:only-of-type {\n",
       "        vertical-align: middle;\n",
       "    }\n",
       "\n",
       "    .dataframe tbody tr th {\n",
       "        vertical-align: top;\n",
       "    }\n",
       "\n",
       "    .dataframe thead th {\n",
       "        text-align: right;\n",
       "    }\n",
       "</style>\n",
       "<table border=\"1\" class=\"dataframe\">\n",
       "  <thead>\n",
       "    <tr style=\"text-align: right;\">\n",
       "      <th></th>\n",
       "      <th>1</th>\n",
       "      <th>2</th>\n",
       "      <th>3</th>\n",
       "      <th>4</th>\n",
       "      <th>5</th>\n",
       "      <th>6</th>\n",
       "      <th>7</th>\n",
       "      <th>8</th>\n",
       "      <th>9</th>\n",
       "      <th>10</th>\n",
       "      <th>...</th>\n",
       "      <th>91</th>\n",
       "      <th>92</th>\n",
       "      <th>93</th>\n",
       "      <th>94</th>\n",
       "      <th>95</th>\n",
       "      <th>96</th>\n",
       "      <th>97</th>\n",
       "      <th>98</th>\n",
       "      <th>99</th>\n",
       "      <th>100</th>\n",
       "    </tr>\n",
       "  </thead>\n",
       "  <tbody>\n",
       "    <tr>\n",
       "      <th>1</th>\n",
       "      <td>-7.991472</td>\n",
       "      <td>-7.536122</td>\n",
       "      <td>-4.780850</td>\n",
       "      <td>5.208716</td>\n",
       "      <td>-12.672164</td>\n",
       "      <td>3.428644</td>\n",
       "      <td>-16.168601</td>\n",
       "      <td>2.962306</td>\n",
       "      <td>-17.751020</td>\n",
       "      <td>0.511695</td>\n",
       "      <td>...</td>\n",
       "      <td>-13.175914</td>\n",
       "      <td>3.261132</td>\n",
       "      <td>-3.447496</td>\n",
       "      <td>-0.734741</td>\n",
       "      <td>-12.508716</td>\n",
       "      <td>-12.847515</td>\n",
       "      <td>2.086659</td>\n",
       "      <td>-0.425586</td>\n",
       "      <td>-1.865315</td>\n",
       "      <td>-4.958281</td>\n",
       "    </tr>\n",
       "    <tr>\n",
       "      <th>2</th>\n",
       "      <td>-0.712212</td>\n",
       "      <td>-17.377770</td>\n",
       "      <td>-1.004452</td>\n",
       "      <td>-4.866426</td>\n",
       "      <td>2.897575</td>\n",
       "      <td>-10.032485</td>\n",
       "      <td>0.718051</td>\n",
       "      <td>5.244976</td>\n",
       "      <td>-5.955010</td>\n",
       "      <td>-17.501953</td>\n",
       "      <td>...</td>\n",
       "      <td>-10.103509</td>\n",
       "      <td>0.925958</td>\n",
       "      <td>-2.219722</td>\n",
       "      <td>-3.426692</td>\n",
       "      <td>-13.423488</td>\n",
       "      <td>3.828057</td>\n",
       "      <td>5.285660</td>\n",
       "      <td>-4.387464</td>\n",
       "      <td>-6.286118</td>\n",
       "      <td>-11.319135</td>\n",
       "    </tr>\n",
       "    <tr>\n",
       "      <th>3</th>\n",
       "      <td>-17.997255</td>\n",
       "      <td>-4.808101</td>\n",
       "      <td>-11.018286</td>\n",
       "      <td>5.344425</td>\n",
       "      <td>-13.038740</td>\n",
       "      <td>1.709499</td>\n",
       "      <td>-7.478178</td>\n",
       "      <td>2.860669</td>\n",
       "      <td>-6.101441</td>\n",
       "      <td>-2.792442</td>\n",
       "      <td>...</td>\n",
       "      <td>-10.884007</td>\n",
       "      <td>-7.806525</td>\n",
       "      <td>-10.626216</td>\n",
       "      <td>-1.443321</td>\n",
       "      <td>3.272632</td>\n",
       "      <td>1.613649</td>\n",
       "      <td>-7.268309</td>\n",
       "      <td>-10.770627</td>\n",
       "      <td>1.811884</td>\n",
       "      <td>-7.811578</td>\n",
       "    </tr>\n",
       "    <tr>\n",
       "      <th>4</th>\n",
       "      <td>-10.744018</td>\n",
       "      <td>-7.552263</td>\n",
       "      <td>-5.740137</td>\n",
       "      <td>-0.844416</td>\n",
       "      <td>4.046662</td>\n",
       "      <td>-16.999281</td>\n",
       "      <td>-0.636836</td>\n",
       "      <td>-5.259463</td>\n",
       "      <td>-14.788091</td>\n",
       "      <td>-0.028707</td>\n",
       "      <td>...</td>\n",
       "      <td>-15.759992</td>\n",
       "      <td>-6.507128</td>\n",
       "      <td>5.088084</td>\n",
       "      <td>-7.837609</td>\n",
       "      <td>-0.745779</td>\n",
       "      <td>3.693131</td>\n",
       "      <td>-11.170056</td>\n",
       "      <td>0.733990</td>\n",
       "      <td>-17.245287</td>\n",
       "      <td>2.274627</td>\n",
       "    </tr>\n",
       "    <tr>\n",
       "      <th>5</th>\n",
       "      <td>-14.477859</td>\n",
       "      <td>-7.911173</td>\n",
       "      <td>3.430727</td>\n",
       "      <td>-1.254508</td>\n",
       "      <td>-6.278131</td>\n",
       "      <td>-15.416240</td>\n",
       "      <td>5.471748</td>\n",
       "      <td>-12.414520</td>\n",
       "      <td>-14.589334</td>\n",
       "      <td>-6.035832</td>\n",
       "      <td>...</td>\n",
       "      <td>-10.006109</td>\n",
       "      <td>-17.991503</td>\n",
       "      <td>-5.137946</td>\n",
       "      <td>-7.181613</td>\n",
       "      <td>-5.208399</td>\n",
       "      <td>-1.034898</td>\n",
       "      <td>0.509198</td>\n",
       "      <td>-6.051017</td>\n",
       "      <td>1.393199</td>\n",
       "      <td>-17.886747</td>\n",
       "    </tr>\n",
       "  </tbody>\n",
       "</table>\n",
       "<p>5 rows × 100 columns</p>\n",
       "</div>"
      ],
      "text/plain": [
       "         1          2          3         4          5          6          7    \\\n",
       "1  -7.991472  -7.536122  -4.780850  5.208716 -12.672164   3.428644 -16.168601   \n",
       "2  -0.712212 -17.377770  -1.004452 -4.866426   2.897575 -10.032485   0.718051   \n",
       "3 -17.997255  -4.808101 -11.018286  5.344425 -13.038740   1.709499  -7.478178   \n",
       "4 -10.744018  -7.552263  -5.740137 -0.844416   4.046662 -16.999281  -0.636836   \n",
       "5 -14.477859  -7.911173   3.430727 -1.254508  -6.278131 -15.416240   5.471748   \n",
       "\n",
       "         8          9          10   ...        91         92         93   \\\n",
       "1   2.962306 -17.751020   0.511695  ... -13.175914   3.261132  -3.447496   \n",
       "2   5.244976  -5.955010 -17.501953  ... -10.103509   0.925958  -2.219722   \n",
       "3   2.860669  -6.101441  -2.792442  ... -10.884007  -7.806525 -10.626216   \n",
       "4  -5.259463 -14.788091  -0.028707  ... -15.759992  -6.507128   5.088084   \n",
       "5 -12.414520 -14.589334  -6.035832  ... -10.006109 -17.991503  -5.137946   \n",
       "\n",
       "        94         95         96         97         98         99         100  \n",
       "1 -0.734741 -12.508716 -12.847515   2.086659  -0.425586  -1.865315  -4.958281  \n",
       "2 -3.426692 -13.423488   3.828057   5.285660  -4.387464  -6.286118 -11.319135  \n",
       "3 -1.443321   3.272632   1.613649  -7.268309 -10.770627   1.811884  -7.811578  \n",
       "4 -7.837609  -0.745779   3.693131 -11.170056   0.733990 -17.245287   2.274627  \n",
       "5 -7.181613  -5.208399  -1.034898   0.509198  -6.051017   1.393199 -17.886747  \n",
       "\n",
       "[5 rows x 100 columns]"
      ]
     },
     "execution_count": 21,
     "metadata": {},
     "output_type": "execute_result"
    }
   ],
   "source": [
    "df = pd.DataFrame()\n",
    "for i in range (1, 101):\n",
    "    df[i]= stats.uniform(-18, 24).rvs(20, random_state= i)\n",
    "df.index = np.arange(1, len(df)+1)\n",
    "df.head()"
   ]
  },
  {
   "cell_type": "code",
   "execution_count": 22,
   "id": "dfcc2f94",
   "metadata": {},
   "outputs": [
    {
     "data": {
      "text/plain": [
       "-7.663594263172863"
      ]
     },
     "execution_count": 22,
     "metadata": {},
     "output_type": "execute_result"
    }
   ],
   "source": [
    "df[3].mean()"
   ]
  },
  {
   "cell_type": "code",
   "execution_count": 23,
   "id": "4554a7eb",
   "metadata": {},
   "outputs": [
    {
     "data": {
      "text/plain": [
       "[-9.185262071248308,\n",
       " -7.643234068520774,\n",
       " -7.663594263172863,\n",
       " -5.079758559314358,\n",
       " -6.505412416221179,\n",
       " -4.156067215981759,\n",
       " -6.4496638161787105,\n",
       " -5.0960088500395555,\n",
       " -7.535069623080301,\n",
       " -5.592126468131286]"
      ]
     },
     "execution_count": 23,
     "metadata": {},
     "output_type": "execute_result"
    }
   ],
   "source": [
    "mean = []\n",
    "for i in range (1, 101):\n",
    "    mean.append(df[i].mean())\n",
    "mean[:10]"
   ]
  },
  {
   "cell_type": "code",
   "execution_count": 24,
   "id": "54dae0a8",
   "metadata": {},
   "outputs": [
    {
     "data": {
      "text/plain": [
       "[-2.073229171431942,\n",
       " -1.0010735027955195,\n",
       " -1.0152297295775021,\n",
       " 0.7812837525492962,\n",
       " -0.2099582103024676,\n",
       " 1.4235165187978507,\n",
       " -0.1711968016585557,\n",
       " 0.7699850982530108,\n",
       " -0.9258679143634083,\n",
       " 0.4250397953100043]"
      ]
     },
     "execution_count": 24,
     "metadata": {},
     "output_type": "execute_result"
    }
   ],
   "source": [
    "E = np.mean(mean)\n",
    "std = np.std(mean)\n",
    "stand_mean = []\n",
    "for i in range (100):\n",
    "    stand_mean.append((mean[i] - E)/ std)\n",
    "stand_mean[:10]"
   ]
  },
  {
   "cell_type": "code",
   "execution_count": 25,
   "id": "f7387cfb",
   "metadata": {},
   "outputs": [
    {
     "data": {
      "image/png": "[encoded data removed]",
      "text/plain": [
       "<Figure size 640x480 with 1 Axes>"
      ]
     },
     "metadata": {},
     "output_type": "display_data"
    }
   ],
   "source": [
    "plt.hist(stand_mean, bins=20);"
   ]
  },
  {
   "cell_type": "code",
   "execution_count": 26,
   "id": "185d986b",
   "metadata": {},
   "outputs": [
    {
     "data": {
      "text/html": [
       "<div>\n",
       "<style scoped>\n",
       "    .dataframe tbody tr th:only-of-type {\n",
       "        vertical-align: middle;\n",
       "    }\n",
       "\n",
       "    .dataframe tbody tr th {\n",
       "        vertical-align: top;\n",
       "    }\n",
       "\n",
       "    .dataframe thead th {\n",
       "        text-align: right;\n",
       "    }\n",
       "</style>\n",
       "<table border=\"1\" class=\"dataframe\">\n",
       "  <thead>\n",
       "    <tr style=\"text-align: right;\">\n",
       "      <th></th>\n",
       "      <th>Unnamed: 0</th>\n",
       "      <th>Crude oil, average</th>\n",
       "      <th>Crude oil, Brent</th>\n",
       "      <th>Crude oil, Dubai</th>\n",
       "      <th>Crude oil, WTI</th>\n",
       "      <th>Coal, Australian</th>\n",
       "      <th>Coal, South African **</th>\n",
       "      <th>Natural gas, US</th>\n",
       "      <th>Natural gas, Europe</th>\n",
       "      <th>Liquefied natural gas, Japan</th>\n",
       "      <th>...</th>\n",
       "      <th>Aluminum</th>\n",
       "      <th>Iron ore, cfr spot</th>\n",
       "      <th>Copper</th>\n",
       "      <th>Lead</th>\n",
       "      <th>Tin</th>\n",
       "      <th>Nickel</th>\n",
       "      <th>Zinc</th>\n",
       "      <th>Gold</th>\n",
       "      <th>Platinum</th>\n",
       "      <th>Silver</th>\n",
       "    </tr>\n",
       "  </thead>\n",
       "  <tbody>\n",
       "    <tr>\n",
       "      <th>2</th>\n",
       "      <td>1960M01</td>\n",
       "      <td>1.63</td>\n",
       "      <td>1.63</td>\n",
       "      <td>1.63</td>\n",
       "      <td>…</td>\n",
       "      <td>…</td>\n",
       "      <td>…</td>\n",
       "      <td>0.14</td>\n",
       "      <td>0.404774</td>\n",
       "      <td>…</td>\n",
       "      <td>...</td>\n",
       "      <td>511.471832</td>\n",
       "      <td>11.42</td>\n",
       "      <td>715.4</td>\n",
       "      <td>206.1</td>\n",
       "      <td>2180.4</td>\n",
       "      <td>1631</td>\n",
       "      <td>260.8</td>\n",
       "      <td>35.27</td>\n",
       "      <td>83.5</td>\n",
       "      <td>0.9137</td>\n",
       "    </tr>\n",
       "    <tr>\n",
       "      <th>3</th>\n",
       "      <td>1960M02</td>\n",
       "      <td>1.63</td>\n",
       "      <td>1.63</td>\n",
       "      <td>1.63</td>\n",
       "      <td>…</td>\n",
       "      <td>…</td>\n",
       "      <td>…</td>\n",
       "      <td>0.14</td>\n",
       "      <td>0.404774</td>\n",
       "      <td>…</td>\n",
       "      <td>...</td>\n",
       "      <td>511.471832</td>\n",
       "      <td>11.42</td>\n",
       "      <td>728.19</td>\n",
       "      <td>203.7</td>\n",
       "      <td>2180.4</td>\n",
       "      <td>1631</td>\n",
       "      <td>244.9</td>\n",
       "      <td>35.27</td>\n",
       "      <td>83.5</td>\n",
       "      <td>0.9137</td>\n",
       "    </tr>\n",
       "    <tr>\n",
       "      <th>4</th>\n",
       "      <td>1960M03</td>\n",
       "      <td>1.63</td>\n",
       "      <td>1.63</td>\n",
       "      <td>1.63</td>\n",
       "      <td>…</td>\n",
       "      <td>…</td>\n",
       "      <td>…</td>\n",
       "      <td>0.14</td>\n",
       "      <td>0.404774</td>\n",
       "      <td>…</td>\n",
       "      <td>...</td>\n",
       "      <td>511.471832</td>\n",
       "      <td>11.42</td>\n",
       "      <td>684.94</td>\n",
       "      <td>210.3</td>\n",
       "      <td>2173.8</td>\n",
       "      <td>1631</td>\n",
       "      <td>248.7</td>\n",
       "      <td>35.27</td>\n",
       "      <td>83.5</td>\n",
       "      <td>0.9137</td>\n",
       "    </tr>\n",
       "    <tr>\n",
       "      <th>5</th>\n",
       "      <td>1960M04</td>\n",
       "      <td>1.63</td>\n",
       "      <td>1.63</td>\n",
       "      <td>1.63</td>\n",
       "      <td>…</td>\n",
       "      <td>…</td>\n",
       "      <td>…</td>\n",
       "      <td>0.14</td>\n",
       "      <td>0.404774</td>\n",
       "      <td>…</td>\n",
       "      <td>...</td>\n",
       "      <td>511.471832</td>\n",
       "      <td>11.42</td>\n",
       "      <td>723.11</td>\n",
       "      <td>213.6</td>\n",
       "      <td>2178.2</td>\n",
       "      <td>1631</td>\n",
       "      <td>254.6</td>\n",
       "      <td>35.27</td>\n",
       "      <td>83.5</td>\n",
       "      <td>0.9137</td>\n",
       "    </tr>\n",
       "    <tr>\n",
       "      <th>6</th>\n",
       "      <td>1960M05</td>\n",
       "      <td>1.63</td>\n",
       "      <td>1.63</td>\n",
       "      <td>1.63</td>\n",
       "      <td>…</td>\n",
       "      <td>…</td>\n",
       "      <td>…</td>\n",
       "      <td>0.14</td>\n",
       "      <td>0.404774</td>\n",
       "      <td>…</td>\n",
       "      <td>...</td>\n",
       "      <td>511.471832</td>\n",
       "      <td>11.42</td>\n",
       "      <td>684.75</td>\n",
       "      <td>213.4</td>\n",
       "      <td>2162.7</td>\n",
       "      <td>1631</td>\n",
       "      <td>253.8</td>\n",
       "      <td>35.27</td>\n",
       "      <td>83.5</td>\n",
       "      <td>0.9137</td>\n",
       "    </tr>\n",
       "  </tbody>\n",
       "</table>\n",
       "<p>5 rows × 72 columns</p>\n",
       "</div>"
      ],
      "text/plain": [
       "  Unnamed: 0 Crude oil, average Crude oil, Brent Crude oil, Dubai  \\\n",
       "2    1960M01               1.63             1.63             1.63   \n",
       "3    1960M02               1.63             1.63             1.63   \n",
       "4    1960M03               1.63             1.63             1.63   \n",
       "5    1960M04               1.63             1.63             1.63   \n",
       "6    1960M05               1.63             1.63             1.63   \n",
       "\n",
       "  Crude oil, WTI Coal, Australian Coal, South African ** Natural gas, US  \\\n",
       "2              …                …                      …            0.14   \n",
       "3              …                …                      …            0.14   \n",
       "4              …                …                      …            0.14   \n",
       "5              …                …                      …            0.14   \n",
       "6              …                …                      …            0.14   \n",
       "\n",
       "  Natural gas, Europe Liquefied natural gas, Japan  ...    Aluminum  \\\n",
       "2            0.404774                            …  ...  511.471832   \n",
       "3            0.404774                            …  ...  511.471832   \n",
       "4            0.404774                            …  ...  511.471832   \n",
       "5            0.404774                            …  ...  511.471832   \n",
       "6            0.404774                            …  ...  511.471832   \n",
       "\n",
       "   Iron ore, cfr spot  Copper   Lead     Tin  Nickel   Zinc   Gold Platinum  \\\n",
       "2               11.42   715.4  206.1  2180.4    1631  260.8  35.27     83.5   \n",
       "3               11.42  728.19  203.7  2180.4    1631  244.9  35.27     83.5   \n",
       "4               11.42  684.94  210.3  2173.8    1631  248.7  35.27     83.5   \n",
       "5               11.42  723.11  213.6  2178.2    1631  254.6  35.27     83.5   \n",
       "6               11.42  684.75  213.4  2162.7    1631  253.8  35.27     83.5   \n",
       "\n",
       "   Silver  \n",
       "2  0.9137  \n",
       "3  0.9137  \n",
       "4  0.9137  \n",
       "5  0.9137  \n",
       "6  0.9137  \n",
       "\n",
       "[5 rows x 72 columns]"
      ]
     },
     "execution_count": 26,
     "metadata": {},
     "output_type": "execute_result"
    }
   ],
   "source": [
    "data = pd.read_excel('CMOHistoricalDataMonthly.xlsx', sheet_name= 'Monthly Prices', header=4)\n",
    "data=data.drop([0,1])\n",
    "data[['Cocoa', 'Tea, Colombo', 'Sugar, US']] = data[['Cocoa', 'Tea, Colombo', 'Sugar, US']].astype(float)\n",
    "data.head()"
   ]
  },
  {
   "cell_type": "code",
   "execution_count": 27,
   "id": "40d85294",
   "metadata": {},
   "outputs": [
    {
     "name": "stdout",
     "output_type": "stream",
     "text": [
      "Корреляция между Cocoa и Tea, Colombo равна 0.6 \n",
      "Корреляция между Cocoa и Sugar, US равна 0.59 \n",
      "Корреляция между Tea, Colombo и Sugar, US равна 0.71\n"
     ]
    }
   ],
   "source": [
    "corr_1 = data['Cocoa'].corr(data['Tea, Colombo'])\n",
    "corr_2 = data['Cocoa'].corr(data['Sugar, US'])\n",
    "corr_3 = data['Sugar, US'].corr(data['Tea, Colombo'])\n",
    "print('Корреляция между Cocoa и Tea, Colombo равна', round(corr_1,2), '\\n'\n",
    "     'Корреляция между Cocoa и Sugar, US равна', round(corr_2,2), '\\n'\n",
    "     'Корреляция между Tea, Colombo и Sugar, US равна', round(corr_3,2))\n",
    "#Можно потом построить линейный график"
   ]
  },
  {
   "cell_type": "markdown",
   "id": "1de29d80",
   "metadata": {},
   "source": [
    "## Задание 2. Доверительные интервалы"
   ]
  },
  {
   "cell_type": "markdown",
   "id": "eb906279",
   "metadata": {},
   "source": [
    "**2.1. Генерация выборок (10 баллов)**"
   ]
  },
  {
   "cell_type": "markdown",
   "id": "260fc2c8",
   "metadata": {},
   "source": [
    "1. Сгенерируйте 3 выборки из нормального распределения с параметрами с параметрами μ = 20 и σ^2 = 6 объемом 100, 300 и 1000 наблюдений\n"
   ]
  },
  {
   "cell_type": "code",
   "execution_count": 28,
   "id": "dd230088",
   "metadata": {},
   "outputs": [],
   "source": [
    "norm_sam_1 = stats.norm(20, np.sqrt(6)).rvs(100, random_state=777)\n",
    "norm_sam_2 = stats.norm(20, np.sqrt(6)).rvs(300, random_state=777)\n",
    "norm_sam_3 = stats.norm(20, np.sqrt(6)).rvs(1000, random_state=777)"
   ]
  },
  {
   "cell_type": "markdown",
   "id": "de7c2793",
   "metadata": {},
   "source": [
    "2. Сгенерируйте 3 выборки из экспоненциального распределения с параметром λ = 1 объемом 100, 300 и 1000 наблюдений\n"
   ]
  },
  {
   "cell_type": "code",
   "execution_count": 29,
   "id": "e397fdb2",
   "metadata": {},
   "outputs": [],
   "source": [
    "exp_sam_1 = stats.expon(1).rvs(100, random_state=777)\n",
    "exp_sam_2 = stats.expon(1).rvs(300, random_state=777)\n",
    "exp_sam_3 = stats.expon(1).rvs(1000, random_state=777)"
   ]
  },
  {
   "cell_type": "markdown",
   "id": "16a21233",
   "metadata": {},
   "source": [
    "3. Сгенерируйте 3 выборки из равномерного на [21, 26] распределения объемом 100, 300 и 1000 наблюдений"
   ]
  },
  {
   "cell_type": "code",
   "execution_count": 30,
   "id": "1dcb173b",
   "metadata": {},
   "outputs": [],
   "source": [
    "uniform_sam_1 = stats.uniform(21, 5).rvs(100, random_state=777)\n",
    "uniform_sam_2 = stats.uniform(21, 5).rvs(300, random_state=777)\n",
    "uniform_sam_3 = stats.uniform(21, 5).rvs(1000, random_state=777)"
   ]
  },
  {
   "cell_type": "markdown",
   "id": "197ca2ae",
   "metadata": {},
   "source": [
    "**2.2. Доверительные интервалы для одного параметра (10 баллов)**"
   ]
  },
  {
   "cell_type": "markdown",
   "id": "3fd5dd73",
   "metadata": {},
   "source": [
    "1. Для каждой выборки из пункта 2.1, предполагая ее нормальность, рассчитайте 90% и 95% доверительные интервалы для математического ожидания, предполагая дисперсию известной"
   ]
  },
  {
   "cell_type": "code",
   "execution_count": 31,
   "id": "7368e54c",
   "metadata": {},
   "outputs": [],
   "source": [
    "def mat_90(x):\n",
    "    mean = x.mean()\n",
    "    std = x.std()/ np.sqrt(len(x))\n",
    "    left, right = stats.norm.interval(0.90, loc = mean, scale = std)\n",
    "    return print('90% Доверительный интервалй для математического ожидания, при условии, что дисперсия известна: [{:.4}; {:.4}]'.format (left, right))"
   ]
  },
  {
   "cell_type": "code",
   "execution_count": 32,
   "id": "942c227e",
   "metadata": {},
   "outputs": [
    {
     "name": "stdout",
     "output_type": "stream",
     "text": [
      "90% Доверительный интервалй для математического ожидания, при условии, что дисперсия известна: [19.63; 20.4]\n",
      "(для norm_sam_1) \n",
      "      \n",
      "90% Доверительный интервалй для математического ожидания, при условии, что дисперсия известна: [19.78; 20.23]\n",
      "(для norm_sam_2) \n",
      "      \n",
      "90% Доверительный интервалй для математического ожидания, при условии, что дисперсия известна: [19.95; 20.21]\n",
      "(для norm_sam_3) \n",
      "      \n"
     ]
    }
   ],
   "source": [
    "mat_90(norm_sam_1)\n",
    "print('(для norm_sam_1)', '\\n', '     ')\n",
    "mat_90(norm_sam_2)\n",
    "print('(для norm_sam_2)', '\\n', '     ')\n",
    "mat_90(norm_sam_3)\n",
    "print('(для norm_sam_3)', '\\n', '     ')"
   ]
  },
  {
   "cell_type": "code",
   "execution_count": 33,
   "id": "8993cc27",
   "metadata": {},
   "outputs": [
    {
     "name": "stdout",
     "output_type": "stream",
     "text": [
      "90% Доверительный интервалй для математического ожидания, при условии, что дисперсия известна: [1.787; 2.142]\n",
      "(для exp_sam_1) \n",
      "      \n",
      "90% Доверительный интервалй для математического ожидания, при условии, что дисперсия известна: [1.762; 1.926]\n",
      "(для exp_sam_2) \n",
      "      \n",
      "90% Доверительный интервалй для математического ожидания, при условии, что дисперсия известна: [1.9; 1.998]\n",
      "(для exp_sam_3) \n",
      "      \n"
     ]
    }
   ],
   "source": [
    "mat_90(exp_sam_1)\n",
    "print('(для exp_sam_1)', '\\n', '     ')\n",
    "mat_90(exp_sam_2)\n",
    "print('(для exp_sam_2)', '\\n', '     ')\n",
    "mat_90(exp_sam_3)\n",
    "print('(для exp_sam_3)', '\\n', '     ')"
   ]
  },
  {
   "cell_type": "code",
   "execution_count": 34,
   "id": "7b555a8f",
   "metadata": {},
   "outputs": [
    {
     "name": "stdout",
     "output_type": "stream",
     "text": [
      "90% Доверительный интервалй для математического ожидания, при условии, что дисперсия известна: [23.2; 23.66]\n",
      "(для uniform_sam_1) \n",
      "      \n",
      "90% Доверительный интервалй для математического ожидания, при условии, что дисперсия известна: [23.16; 23.43]\n",
      "(для uniform_sam_2) \n",
      "      \n",
      "90% Доверительный интервалй для математического ожидания, при условии, что дисперсия известна: [23.37; 23.52]\n",
      "(для uniform_sam_3) \n",
      "      \n"
     ]
    }
   ],
   "source": [
    "mat_90(uniform_sam_1)\n",
    "print('(для uniform_sam_1)', '\\n', '     ')\n",
    "mat_90(uniform_sam_2)\n",
    "print('(для uniform_sam_2)', '\\n', '     ')\n",
    "mat_90(uniform_sam_3)\n",
    "print('(для uniform_sam_3)', '\\n', '     ')"
   ]
  },
  {
   "cell_type": "code",
   "execution_count": 35,
   "id": "102251e6",
   "metadata": {},
   "outputs": [],
   "source": [
    "def mat_95(x):\n",
    "    mean = x.mean()\n",
    "    std = x.std()/ np.sqrt(len(x))\n",
    "    left, right = stats.norm.interval(0.95, loc = mean, scale = std)\n",
    "    return print('95% Доверительный интервал для математического ожидания, при условии, что дисперсия известна: [{:.4}; {:.4}]'.format (left, right))"
   ]
  },
  {
   "cell_type": "code",
   "execution_count": 36,
   "id": "d36f8fa0",
   "metadata": {},
   "outputs": [
    {
     "name": "stdout",
     "output_type": "stream",
     "text": [
      "95% Доверительный интервал для математического ожидания, при условии, что дисперсия известна: [19.56; 20.48]\n",
      "(для norm_sam_1) \n",
      "      \n",
      "95% Доверительный интервал для математического ожидания, при условии, что дисперсия известна: [19.74; 20.27]\n",
      "(для norm_sam_2) \n",
      "      \n",
      "95% Доверительный интервал для математического ожидания, при условии, что дисперсия известна: [19.93; 20.23]\n",
      "(для norm_sam_3) \n",
      "      \n"
     ]
    }
   ],
   "source": [
    "mat_95(norm_sam_1)\n",
    "print('(для norm_sam_1)', '\\n', '     ')\n",
    "mat_95(norm_sam_2)\n",
    "print('(для norm_sam_2)', '\\n', '     ')\n",
    "mat_95(norm_sam_3)\n",
    "print('(для norm_sam_3)', '\\n', '     ')"
   ]
  },
  {
   "cell_type": "code",
   "execution_count": 37,
   "id": "f77ba1c5",
   "metadata": {},
   "outputs": [
    {
     "name": "stdout",
     "output_type": "stream",
     "text": [
      "95% Доверительный интервал для математического ожидания, при условии, что дисперсия известна: [1.753; 2.176]\n",
      "(для exp_sam_1) \n",
      "      \n",
      "95% Доверительный интервал для математического ожидания, при условии, что дисперсия известна: [1.746; 1.941]\n",
      "(для exp_sam_2) \n",
      "      \n",
      "95% Доверительный интервал для математического ожидания, при условии, что дисперсия известна: [1.89; 2.008]\n",
      "(для exp_sam_3) \n",
      "      \n"
     ]
    }
   ],
   "source": [
    "mat_95(exp_sam_1)\n",
    "print('(для exp_sam_1)', '\\n', '     ')\n",
    "mat_95(exp_sam_2)\n",
    "print('(для exp_sam_2)', '\\n', '     ')\n",
    "mat_95(exp_sam_3)\n",
    "print('(для exp_sam_3)', '\\n', '     ')"
   ]
  },
  {
   "cell_type": "code",
   "execution_count": 38,
   "id": "0535f5b0",
   "metadata": {},
   "outputs": [
    {
     "name": "stdout",
     "output_type": "stream",
     "text": [
      "95% Доверительный интервал для математического ожидания, при условии, что дисперсия известна: [23.15; 23.7]\n",
      "(для uniform_sam_1) \n",
      "      \n",
      "95% Доверительный интервал для математического ожидания, при условии, что дисперсия известна: [23.13; 23.45]\n",
      "(для uniform_sam_2) \n",
      "      \n",
      "95% Доверительный интервал для математического ожидания, при условии, что дисперсия известна: [23.36; 23.53]\n",
      "(для uniform_sam_3) \n",
      "      \n"
     ]
    }
   ],
   "source": [
    "mat_95(uniform_sam_1)\n",
    "print('(для uniform_sam_1)', '\\n', '     ')\n",
    "mat_95(uniform_sam_2)\n",
    "print('(для uniform_sam_2)', '\\n', '     ')\n",
    "mat_95(uniform_sam_3)\n",
    "print('(для uniform_sam_3)', '\\n', '     ')"
   ]
  },
  {
   "cell_type": "markdown",
   "id": "f04e6eb3",
   "metadata": {},
   "source": [
    " "
   ]
  },
  {
   "cell_type": "markdown",
   "id": "1d395f34",
   "metadata": {},
   "source": [
    "2. Для каждой выборки из пункта 2.1, предполагая ее нормальность, рассчитайте 90% и 95% доверительные интервалы для математического ожидания, предполагая дисперсию неизвестной.\n"
   ]
  },
  {
   "cell_type": "code",
   "execution_count": 39,
   "id": "bb73ab5d",
   "metadata": {},
   "outputs": [],
   "source": [
    "def without_90(x):\n",
    "    mean = x.mean()\n",
    "    std = x.std()/ np.sqrt(len(x))\n",
    "    left, right = stats.t.interval(0.90, df=(len(x)-1), loc = mean, scale = std)\n",
    "    return print('90% Доверительный интервалй для математического ожидания, при условии, что дисперсия неизвестна: [{:.4}; {:.4}]'.format (left, right))"
   ]
  },
  {
   "cell_type": "code",
   "execution_count": 40,
   "id": "c4f01e8e",
   "metadata": {},
   "outputs": [
    {
     "name": "stdout",
     "output_type": "stream",
     "text": [
      "90% Доверительный интервалй для математического ожидания, при условии, что дисперсия неизвестна: [19.63; 20.41]\n",
      "(для norm_sam_1) \n",
      "      \n",
      "90% Доверительный интервалй для математического ожидания, при условии, что дисперсия неизвестна: [19.78; 20.23]\n",
      "(для norm_sam_2) \n",
      "      \n",
      "90% Доверительный интервалй для математического ожидания, при условии, что дисперсия неизвестна: [19.95; 20.21]\n",
      "(для norm_sam_3) \n",
      "      \n"
     ]
    }
   ],
   "source": [
    "without_90(norm_sam_1)\n",
    "print('(для norm_sam_1)', '\\n', '     ')\n",
    "without_90(norm_sam_2)\n",
    "print('(для norm_sam_2)', '\\n', '     ')\n",
    "without_90(norm_sam_3)\n",
    "print('(для norm_sam_3)', '\\n', '     ')"
   ]
  },
  {
   "cell_type": "code",
   "execution_count": 41,
   "id": "fc1394bd",
   "metadata": {},
   "outputs": [
    {
     "name": "stdout",
     "output_type": "stream",
     "text": [
      "90% Доверительный интервалй для математического ожидания, при условии, что дисперсия неизвестна: [1.786; 2.144]\n",
      "(для exp_sam_1) \n",
      "      \n",
      "90% Доверительный интервалй для математического ожидания, при условии, что дисперсия неизвестна: [1.762; 1.926]\n",
      "(для exp_sam_2) \n",
      "      \n",
      "90% Доверительный интервалй для математического ожидания, при условии, что дисперсия неизвестна: [1.9; 1.998]\n",
      "(для exp_sam_3) \n",
      "      \n"
     ]
    }
   ],
   "source": [
    "without_90(exp_sam_1)\n",
    "print('(для exp_sam_1)', '\\n', '     ')\n",
    "without_90(exp_sam_2)\n",
    "print('(для exp_sam_2)', '\\n', '     ')\n",
    "without_90(exp_sam_3)\n",
    "print('(для exp_sam_3)', '\\n', '     ')"
   ]
  },
  {
   "cell_type": "code",
   "execution_count": 42,
   "id": "245100a8",
   "metadata": {},
   "outputs": [
    {
     "name": "stdout",
     "output_type": "stream",
     "text": [
      "90% Доверительный интервалй для математического ожидания, при условии, что дисперсия неизвестна: [23.19; 23.66]\n",
      "(для uniform_sam_1) \n",
      "      \n",
      "90% Доверительный интервалй для математического ожидания, при условии, что дисперсия неизвестна: [23.16; 23.43]\n",
      "(для uniform_sam_2) \n",
      "      \n",
      "90% Доверительный интервалй для математического ожидания, при условии, что дисперсия неизвестна: [23.37; 23.52]\n",
      "(для uniform_sam_3) \n",
      "      \n"
     ]
    }
   ],
   "source": [
    "without_90(uniform_sam_1)\n",
    "print('(для uniform_sam_1)', '\\n', '     ')\n",
    "without_90(uniform_sam_2)\n",
    "print('(для uniform_sam_2)', '\\n', '     ')\n",
    "without_90(uniform_sam_3)\n",
    "print('(для uniform_sam_3)', '\\n', '     ')"
   ]
  },
  {
   "cell_type": "code",
   "execution_count": 43,
   "id": "c71eb976",
   "metadata": {},
   "outputs": [],
   "source": [
    "def without_95(x):\n",
    "    mean = x.mean()\n",
    "    std = x.std()/ np.sqrt(len(x))\n",
    "    left, right = stats.t.interval(0.95, df=(len(x)-1), loc = mean, scale = std)\n",
    "    return print('95% Доверительный интервал для математического ожидания, при условии, что дисперсия неизвестна: [{:.4}; {:.4}]'.format (left, right))"
   ]
  },
  {
   "cell_type": "code",
   "execution_count": 44,
   "id": "ec0859ab",
   "metadata": {},
   "outputs": [
    {
     "name": "stdout",
     "output_type": "stream",
     "text": [
      "95% Доверительный интервал для математического ожидания, при условии, что дисперсия неизвестна: [19.55; 20.48]\n",
      "(для norm_sam_1) \n",
      "      \n",
      "95% Доверительный интервал для математического ожидания, при условии, что дисперсия неизвестна: [19.74; 20.27]\n",
      "(для norm_sam_2) \n",
      "      \n",
      "95% Доверительный интервал для математического ожидания, при условии, что дисперсия неизвестна: [19.93; 20.23]\n",
      "(для norm_sam_3) \n",
      "      \n"
     ]
    }
   ],
   "source": [
    "without_95(norm_sam_1)\n",
    "print('(для norm_sam_1)', '\\n', '     ')\n",
    "without_95(norm_sam_2)\n",
    "print('(для norm_sam_2)', '\\n', '     ')\n",
    "without_95(norm_sam_3)\n",
    "print('(для norm_sam_3)', '\\n', '     ')"
   ]
  },
  {
   "cell_type": "code",
   "execution_count": 45,
   "id": "69654e7a",
   "metadata": {},
   "outputs": [
    {
     "name": "stdout",
     "output_type": "stream",
     "text": [
      "95% Доверительный интервал для математического ожидания, при условии, что дисперсия неизвестна: [1.751; 2.179]\n",
      "(для exp_sam_1) \n",
      "      \n",
      "95% Доверительный интервал для математического ожидания, при условии, что дисперсия неизвестна: [1.746; 1.942]\n",
      "(для exp_sam_2) \n",
      "      \n",
      "95% Доверительный интервал для математического ожидания, при условии, что дисперсия неизвестна: [1.89; 2.008]\n",
      "(для exp_sam_3) \n",
      "      \n"
     ]
    }
   ],
   "source": [
    "without_95(exp_sam_1)\n",
    "print('(для exp_sam_1)', '\\n', '     ')\n",
    "without_95(exp_sam_2)\n",
    "print('(для exp_sam_2)', '\\n', '     ')\n",
    "without_95(exp_sam_3)\n",
    "print('(для exp_sam_3)', '\\n', '     ')"
   ]
  },
  {
   "cell_type": "code",
   "execution_count": 46,
   "id": "5bf456e1",
   "metadata": {},
   "outputs": [
    {
     "name": "stdout",
     "output_type": "stream",
     "text": [
      "95% Доверительный интервал для математического ожидания, при условии, что дисперсия неизвестна: [23.15; 23.71]\n",
      "(для uniform_sam_1) \n",
      "      \n",
      "95% Доверительный интервал для математического ожидания, при условии, что дисперсия неизвестна: [23.13; 23.45]\n",
      "(для uniform_sam_2) \n",
      "      \n",
      "95% Доверительный интервал для математического ожидания, при условии, что дисперсия неизвестна: [23.36; 23.53]\n",
      "(для uniform_sam_3) \n",
      "      \n"
     ]
    }
   ],
   "source": [
    "without_95(uniform_sam_1)\n",
    "print('(для uniform_sam_1)', '\\n', '     ')\n",
    "without_95(uniform_sam_2)\n",
    "print('(для uniform_sam_2)', '\\n', '     ')\n",
    "without_95(uniform_sam_3)\n",
    "print('(для uniform_sam_3)', '\\n', '     ')"
   ]
  },
  {
   "cell_type": "markdown",
   "id": "f188da1e",
   "metadata": {},
   "source": [
    " "
   ]
  },
  {
   "cell_type": "markdown",
   "id": "152e0843",
   "metadata": {},
   "source": [
    "3. Для каждой выборки из пункта 2.1, предполагая ее нормальность, рассчитайте 90% и 95% доверительные интервалы для дисперсии и стандартного отклонения, предполагая математическое ожидание известным."
   ]
  },
  {
   "cell_type": "code",
   "execution_count": 47,
   "id": "4e296801",
   "metadata": {},
   "outputs": [],
   "source": [
    "def var_mat_90(x):\n",
    "    alpha = 0.1\n",
    "    disp = x.var()*len(x)\n",
    "    chi_l, chi_r = stats.chi2.ppf([1-alpha/2, alpha/2], df = len(x))\n",
    "    left_var = disp/chi_l\n",
    "    right_var = disp/chi_r\n",
    "    left_std = np.sqrt(disp)/chi_l\n",
    "    right_std = np.sqrt(disp)/chi_r\n",
    "    return print('90% Доверительный интервал для дисперсии при известном матиматическом ожидании: [{:.4}; {:.4}]'.format(left_var, \n",
    "                                                                                                                    right_var),\n",
    "                '\\n''90% Доверительный интервал для стандартного отклонения при известном матиматическом ожидании: [{:.4}; {:.4}]'.format(left_std, \n",
    "                                                                                                                    right_std))\n"
   ]
  },
  {
   "cell_type": "code",
   "execution_count": 48,
   "id": "3e253781",
   "metadata": {},
   "outputs": [
    {
     "name": "stdout",
     "output_type": "stream",
     "text": [
      "90% Доверительный интервал для дисперсии при известном матиматическом ожидании: [4.434; 7.075] \n",
      "90% Доверительный интервал для стандартного отклонения при известном матиматическом ожидании: [0.1888; 0.3013]\n",
      "(для norm_sam_1) \n",
      "      \n",
      "90% Доверительный интервал для дисперсии при известном матиматическом ожидании: [4.784; 6.26] \n",
      "90% Доверительный интервал для стандартного отклонения при известном матиматическом ожидании: [0.1184; 0.1549]\n",
      "(для norm_sam_2) \n",
      "      \n",
      "90% Доверительный интервал для дисперсии при известном матиматическом ожидании: [5.623; 6.514] \n",
      "90% Доверительный интервал для стандартного отклонения при известном матиматическом ожидании: [0.07233; 0.0838]\n",
      "(для norm_sam_3) \n",
      "      \n"
     ]
    }
   ],
   "source": [
    "var_mat_90(norm_sam_1)\n",
    "print('(для norm_sam_1)', '\\n', '     ')\n",
    "var_mat_90(norm_sam_2)\n",
    "print('(для norm_sam_2)', '\\n', '     ')\n",
    "var_mat_90(norm_sam_3)\n",
    "print('(для norm_sam_3)', '\\n', '     ')"
   ]
  },
  {
   "cell_type": "code",
   "execution_count": 49,
   "id": "863ea3bc",
   "metadata": {},
   "outputs": [
    {
     "name": "stdout",
     "output_type": "stream",
     "text": [
      "90% Доверительный интервал для дисперсии при известном матиматическом ожидании: [0.9377; 1.496] \n",
      "90% Доверительный интервал для стандартного отклонения при известном матиматическом ожидании: [0.08684; 0.1386]\n",
      "(для exp_sam_1) \n",
      "      \n",
      "90% Доверительный интервал для дисперсии при известном матиматическом ожидании: [0.6513; 0.8523] \n",
      "90% Доверительный интервал для стандартного отклонения при известном матиматическом ожидании: [0.04368; 0.05716]\n",
      "(для exp_sam_2) \n",
      "      \n",
      "90% Доверительный интервал для дисперсии при известном матиматическом ожидании: [0.8372; 0.9699] \n",
      "90% Доверительный интервал для стандартного отклонения при известном матиматическом ожидании: [0.02791; 0.03234]\n",
      "(для exp_sam_3) \n",
      "      \n"
     ]
    }
   ],
   "source": [
    "var_mat_90(exp_sam_1)\n",
    "print('(для exp_sam_1)', '\\n', '     ')\n",
    "var_mat_90(exp_sam_2)\n",
    "print('(для exp_sam_2)', '\\n', '     ')\n",
    "var_mat_90(exp_sam_3)\n",
    "print('(для exp_sam_3)', '\\n', '     ')"
   ]
  },
  {
   "cell_type": "code",
   "execution_count": 50,
   "id": "01978fa1",
   "metadata": {},
   "outputs": [
    {
     "name": "stdout",
     "output_type": "stream",
     "text": [
      "90% Доверительный интервал для дисперсии при известном матиматическом ожидании: [1.598; 2.55] \n",
      "90% Доверительный интервал для стандартного отклонения при известном матиматическом ожидании: [0.1134; 0.1809]\n",
      "(для uniform_sam_1) \n",
      "      \n",
      "90% Доверительный интервал для дисперсии при известном матиматическом ожидании: [1.759; 2.302] \n",
      "90% Доверительный интервал для стандартного отклонения при известном матиматическом ожидании: [0.07177; 0.09393]\n",
      "(для uniform_sam_2) \n",
      "      \n",
      "90% Доверительный интервал для дисперсии при известном матиматическом ожидании: [1.886; 2.185] \n",
      "90% Доверительный интервал для стандартного отклонения при известном матиматическом ожидании: [0.04189; 0.04854]\n",
      "(для uniform_sam_3) \n",
      "      \n"
     ]
    }
   ],
   "source": [
    "var_mat_90(uniform_sam_1)\n",
    "print('(для uniform_sam_1)', '\\n', '     ')\n",
    "var_mat_90(uniform_sam_2)\n",
    "print('(для uniform_sam_2)', '\\n', '     ')\n",
    "var_mat_90(uniform_sam_3)\n",
    "print('(для uniform_sam_3)', '\\n', '     ')"
   ]
  },
  {
   "cell_type": "code",
   "execution_count": 51,
   "id": "37713adb",
   "metadata": {},
   "outputs": [],
   "source": [
    "def var_mat_95(x):\n",
    "    alpha = 0.05\n",
    "    disp = x.var()*len(x)\n",
    "    chi_l, chi_r = stats.chi2.ppf([1-alpha/2, alpha/2], df = len(x))\n",
    "    left_var = disp/chi_l\n",
    "    right_var = disp/chi_r\n",
    "    left_std = np.sqrt(disp)/chi_l\n",
    "    right_std = np.sqrt(disp)/chi_r\n",
    "    return print('95% Доверительный интервал для дисперсии при известном матиматическом ожидании: [{:.4}; {:.4}]'.format(left_var, \n",
    "                                                                                                                    right_var),\n",
    "                '\\n''95% Доверительный интервал для стандартного отклонения при известном матиматическом ожидании: [{:.4}; {:.4}]'.format(left_std, \n",
    "                                                                                                                    right_std))"
   ]
  },
  {
   "cell_type": "code",
   "execution_count": 52,
   "id": "f10181c9",
   "metadata": {},
   "outputs": [
    {
     "name": "stdout",
     "output_type": "stream",
     "text": [
      "95% Доверительный интервал для дисперсии при известном матиматическом ожидании: [4.255; 7.428] \n",
      "95% Доверительный интервал для стандартного отклонения при известном матиматическом ожидании: [0.1812; 0.3164]\n",
      "(для norm_sam_1) \n",
      "      \n",
      "95% Доверительный интервал для дисперсии при известном матиматическом ожидании: [4.668; 6.432] \n",
      "95% Доверительный интервал для стандартного отклонения при известном матиматическом ожидании: [0.1155; 0.1592]\n",
      "(для norm_sam_2) \n",
      "      \n",
      "95% Доверительный интервал для дисперсии при известном матиматическом ожидании: [5.546; 6.609] \n",
      "95% Доверительный интервал для стандартного отклонения при известном матиматическом ожидании: [0.07135; 0.08502]\n",
      "(для norm_sam_3) \n",
      "      \n"
     ]
    }
   ],
   "source": [
    "var_mat_95(norm_sam_1)\n",
    "print('(для norm_sam_1)', '\\n', '     ')\n",
    "var_mat_95(norm_sam_2)\n",
    "print('(для norm_sam_2)', '\\n', '     ')\n",
    "var_mat_95(norm_sam_3)\n",
    "print('(для norm_sam_3)', '\\n', '     ')"
   ]
  },
  {
   "cell_type": "code",
   "execution_count": 53,
   "id": "1656190a",
   "metadata": {},
   "outputs": [
    {
     "name": "stdout",
     "output_type": "stream",
     "text": [
      "95% Доверительный интервал для дисперсии при известном матиматическом ожидании: [0.8999; 1.571] \n",
      "95% Доверительный интервал для стандартного отклонения при известном матиматическом ожидании: [0.08334; 0.1455]\n",
      "(для exp_sam_1) \n",
      "      \n",
      "95% Доверительный интервал для дисперсии при известном матиматическом ожидании: [0.6355; 0.8757] \n",
      "95% Доверительный интервал для стандартного отклонения при известном матиматическом ожидании: [0.04262; 0.05873]\n",
      "(для exp_sam_2) \n",
      "      \n",
      "95% Доверительный интервал для дисперсии при известном матиматическом ожидании: [0.8258; 0.9841] \n",
      "95% Доверительный интервал для стандартного отклонения при известном матиматическом ожидании: [0.02753; 0.03281]\n",
      "(для exp_sam_3) \n",
      "      \n"
     ]
    }
   ],
   "source": [
    "var_mat_95(exp_sam_1)\n",
    "print('(для exp_sam_1)', '\\n', '     ')\n",
    "var_mat_95(exp_sam_2)\n",
    "print('(для exp_sam_2)', '\\n', '     ')\n",
    "var_mat_95(exp_sam_3)\n",
    "print('(для exp_sam_3)', '\\n', '     ')"
   ]
  },
  {
   "cell_type": "code",
   "execution_count": 54,
   "id": "888c571c",
   "metadata": {},
   "outputs": [
    {
     "name": "stdout",
     "output_type": "stream",
     "text": [
      "95% Доверительный интервал для дисперсии при известном матиматическом ожидании: [1.534; 2.678] \n",
      "95% Доверительный интервал для стандартного отклонения при известном матиматическом ожидании: [0.1088; 0.1899]\n",
      "(для uniform_sam_1) \n",
      "      \n",
      "95% Доверительный интервал для дисперсии при известном матиматическом ожидании: [1.716; 2.365] \n",
      "95% Доверительный интервал для стандартного отклонения при известном матиматическом ожидании: [0.07003; 0.0965]\n",
      "(для uniform_sam_2) \n",
      "      \n",
      "95% Доверительный интервал для дисперсии при известном матиматическом ожидании: [1.86; 2.217] \n",
      "95% Доверительный интервал для стандартного отклонения при известном матиматическом ожидании: [0.04132; 0.04924]\n",
      "(для uniform_sam_3) \n",
      "      \n"
     ]
    }
   ],
   "source": [
    "var_mat_95(uniform_sam_1)\n",
    "print('(для uniform_sam_1)', '\\n', '     ')\n",
    "var_mat_95(uniform_sam_2)\n",
    "print('(для uniform_sam_2)', '\\n', '     ')\n",
    "var_mat_95(uniform_sam_3)\n",
    "print('(для uniform_sam_3)', '\\n', '     ')"
   ]
  },
  {
   "cell_type": "markdown",
   "id": "e37beabe",
   "metadata": {},
   "source": [
    " "
   ]
  },
  {
   "cell_type": "markdown",
   "id": "aac14ecb",
   "metadata": {},
   "source": [
    "4. Для каждой выборки из пункта 2.1, предполагая ее нормальность, рассчитайте 90% и 95% доверительные интервалы для дисперсии и стандартного отклонения, предполагая математическое ожидание неизвестным."
   ]
  },
  {
   "cell_type": "code",
   "execution_count": 55,
   "id": "557ca472",
   "metadata": {},
   "outputs": [],
   "source": [
    "def var_nomat_90(x):\n",
    "    alpha = 0.1\n",
    "    disp = x.var(ddof=1)*(len(x)-1)\n",
    "    chi_l, chi_r = stats.chi2.ppf([1-alpha/2, alpha/2], df = len(x))\n",
    "    left_var = disp/chi_l\n",
    "    right_var = disp/chi_r\n",
    "    left_std = np.sqrt(disp)/chi_l\n",
    "    right_std = np.sqrt(disp)/chi_r\n",
    "    return print('90% Доверительный интервал для дисперсии при известном матиматическом ожидании: [{:.4}; {:.4}]'.format(left_var, \n",
    "                                                                                                                    right_var),\n",
    "                '\\n''90% Доверительный интервал для стандартного отклонения при известном матиматическом ожидании: [{:.4}; {:.4}]'.format(left_std, \n",
    "                                                                                                                    right_std))\n"
   ]
  },
  {
   "cell_type": "code",
   "execution_count": 56,
   "id": "63b038fc",
   "metadata": {},
   "outputs": [
    {
     "name": "stdout",
     "output_type": "stream",
     "text": [
      "90% Доверительный интервал для дисперсии при известном матиматическом ожидании: [4.434; 7.075] \n",
      "90% Доверительный интервал для стандартного отклонения при известном матиматическом ожидании: [0.1888; 0.3013]\n",
      "(для norm_sam_1) \n",
      "      \n",
      "90% Доверительный интервал для дисперсии при известном матиматическом ожидании: [4.784; 6.26] \n",
      "90% Доверительный интервал для стандартного отклонения при известном матиматическом ожидании: [0.1184; 0.1549]\n",
      "(для norm_sam_2) \n",
      "      \n",
      "90% Доверительный интервал для дисперсии при известном матиматическом ожидании: [5.623; 6.514] \n",
      "90% Доверительный интервал для стандартного отклонения при известном матиматическом ожидании: [0.07233; 0.0838]\n",
      "(для norm_sam_3) \n",
      "      \n"
     ]
    }
   ],
   "source": [
    "var_nomat_90(norm_sam_1)\n",
    "print('(для norm_sam_1)', '\\n', '     ')\n",
    "var_nomat_90(norm_sam_2)\n",
    "print('(для norm_sam_2)', '\\n', '     ')\n",
    "var_nomat_90(norm_sam_3)\n",
    "print('(для norm_sam_3)', '\\n', '     ')"
   ]
  },
  {
   "cell_type": "code",
   "execution_count": 57,
   "id": "ff702042",
   "metadata": {},
   "outputs": [
    {
     "name": "stdout",
     "output_type": "stream",
     "text": [
      "90% Доверительный интервал для дисперсии при известном матиматическом ожидании: [0.9377; 1.496] \n",
      "90% Доверительный интервал для стандартного отклонения при известном матиматическом ожидании: [0.08684; 0.1386]\n",
      "(для exp_sam_1) \n",
      "      \n",
      "90% Доверительный интервал для дисперсии при известном матиматическом ожидании: [0.6513; 0.8523] \n",
      "90% Доверительный интервал для стандартного отклонения при известном матиматическом ожидании: [0.04368; 0.05716]\n",
      "(для exp_sam_2) \n",
      "      \n",
      "90% Доверительный интервал для дисперсии при известном матиматическом ожидании: [0.8372; 0.9699] \n",
      "90% Доверительный интервал для стандартного отклонения при известном матиматическом ожидании: [0.02791; 0.03234]\n",
      "(для exp_sam_3) \n",
      "      \n"
     ]
    }
   ],
   "source": [
    "var_nomat_90(exp_sam_1)\n",
    "print('(для exp_sam_1)', '\\n', '     ')\n",
    "var_nomat_90(exp_sam_2)\n",
    "print('(для exp_sam_2)', '\\n', '     ')\n",
    "var_nomat_90(exp_sam_3)\n",
    "print('(для exp_sam_3)', '\\n', '     ')"
   ]
  },
  {
   "cell_type": "code",
   "execution_count": 58,
   "id": "a77e647f",
   "metadata": {},
   "outputs": [
    {
     "name": "stdout",
     "output_type": "stream",
     "text": [
      "90% Доверительный интервал для дисперсии при известном матиматическом ожидании: [1.598; 2.55] \n",
      "90% Доверительный интервал для стандартного отклонения при известном матиматическом ожидании: [0.1134; 0.1809]\n",
      "(для uniform_sam_1) \n",
      "      \n",
      "90% Доверительный интервал для дисперсии при известном матиматическом ожидании: [1.759; 2.302] \n",
      "90% Доверительный интервал для стандартного отклонения при известном матиматическом ожидании: [0.07177; 0.09393]\n",
      "(для uniform_sam_2) \n",
      "      \n",
      "90% Доверительный интервал для дисперсии при известном матиматическом ожидании: [1.886; 2.185] \n",
      "90% Доверительный интервал для стандартного отклонения при известном матиматическом ожидании: [0.04189; 0.04854]\n",
      "(для uniform_sam_3) \n",
      "      \n"
     ]
    }
   ],
   "source": [
    "var_nomat_90(uniform_sam_1)\n",
    "print('(для uniform_sam_1)', '\\n', '     ')\n",
    "var_nomat_90(uniform_sam_2)\n",
    "print('(для uniform_sam_2)', '\\n', '     ')\n",
    "var_nomat_90(uniform_sam_3)\n",
    "print('(для uniform_sam_3)', '\\n', '     ')"
   ]
  },
  {
   "cell_type": "code",
   "execution_count": 59,
   "id": "052e96dc",
   "metadata": {},
   "outputs": [],
   "source": [
    "def var_nomat_95(x):\n",
    "    alpha = 0.05\n",
    "    disp = x.var(ddof=1)*(len(x)-1)\n",
    "    chi_l, chi_r = stats.chi2.ppf([1-alpha/2, alpha/2], df = len(x))\n",
    "    left_var = disp/chi_l\n",
    "    right_var = disp/chi_r\n",
    "    left_std = np.sqrt(disp)/chi_l\n",
    "    right_std = np.sqrt(disp)/chi_r\n",
    "    return print('95% Доверительный интервал для дисперсии при известном матиматическом ожидании: [{:.4}; {:.4}]'.format(left_var, \n",
    "                                                                                                                    right_var),\n",
    "                '\\n''95% Доверительный интервал для стандартного отклонения при известном матиматическом ожидании: [{:.4}; {:.4}]'.format(left_std, \n",
    "                                                                                                                    right_std))\n"
   ]
  },
  {
   "cell_type": "code",
   "execution_count": 60,
   "id": "85ff182c",
   "metadata": {},
   "outputs": [
    {
     "name": "stdout",
     "output_type": "stream",
     "text": [
      "90% Доверительный интервал для дисперсии при известном матиматическом ожидании: [4.434; 7.075] \n",
      "90% Доверительный интервал для стандартного отклонения при известном матиматическом ожидании: [0.1888; 0.3013]\n",
      "(для norm_sam_1) \n",
      "      \n",
      "90% Доверительный интервал для дисперсии при известном матиматическом ожидании: [4.784; 6.26] \n",
      "90% Доверительный интервал для стандартного отклонения при известном матиматическом ожидании: [0.1184; 0.1549]\n",
      "(для norm_sam_2) \n",
      "      \n",
      "90% Доверительный интервал для дисперсии при известном матиматическом ожидании: [5.623; 6.514] \n",
      "90% Доверительный интервал для стандартного отклонения при известном матиматическом ожидании: [0.07233; 0.0838]\n",
      "(для norm_sam_3) \n",
      "      \n"
     ]
    }
   ],
   "source": [
    "var_nomat_90(norm_sam_1)\n",
    "print('(для norm_sam_1)', '\\n', '     ')\n",
    "var_nomat_90(norm_sam_2)\n",
    "print('(для norm_sam_2)', '\\n', '     ')\n",
    "var_nomat_90(norm_sam_3)\n",
    "print('(для norm_sam_3)', '\\n', '     ')"
   ]
  },
  {
   "cell_type": "code",
   "execution_count": 61,
   "id": "00db29b8",
   "metadata": {},
   "outputs": [
    {
     "name": "stdout",
     "output_type": "stream",
     "text": [
      "90% Доверительный интервал для дисперсии при известном матиматическом ожидании: [0.9377; 1.496] \n",
      "90% Доверительный интервал для стандартного отклонения при известном матиматическом ожидании: [0.08684; 0.1386]\n",
      "(для exp_sam_1) \n",
      "      \n",
      "90% Доверительный интервал для дисперсии при известном матиматическом ожидании: [0.6513; 0.8523] \n",
      "90% Доверительный интервал для стандартного отклонения при известном матиматическом ожидании: [0.04368; 0.05716]\n",
      "(для exp_sam_2) \n",
      "      \n",
      "90% Доверительный интервал для дисперсии при известном матиматическом ожидании: [0.8372; 0.9699] \n",
      "90% Доверительный интервал для стандартного отклонения при известном матиматическом ожидании: [0.02791; 0.03234]\n",
      "(для exp_sam_3) \n",
      "      \n"
     ]
    }
   ],
   "source": [
    "var_nomat_90(exp_sam_1)\n",
    "print('(для exp_sam_1)', '\\n', '     ')\n",
    "var_nomat_90(exp_sam_2)\n",
    "print('(для exp_sam_2)', '\\n', '     ')\n",
    "var_nomat_90(exp_sam_3)\n",
    "print('(для exp_sam_3)', '\\n', '     ')"
   ]
  },
  {
   "cell_type": "code",
   "execution_count": 62,
   "id": "c3616fad",
   "metadata": {},
   "outputs": [
    {
     "name": "stdout",
     "output_type": "stream",
     "text": [
      "90% Доверительный интервал для дисперсии при известном матиматическом ожидании: [1.598; 2.55] \n",
      "90% Доверительный интервал для стандартного отклонения при известном матиматическом ожидании: [0.1134; 0.1809]\n",
      "(для uniform_sam_1) \n",
      "      \n",
      "90% Доверительный интервал для дисперсии при известном матиматическом ожидании: [1.759; 2.302] \n",
      "90% Доверительный интервал для стандартного отклонения при известном матиматическом ожидании: [0.07177; 0.09393]\n",
      "(для uniform_sam_2) \n",
      "      \n",
      "90% Доверительный интервал для дисперсии при известном матиматическом ожидании: [1.886; 2.185] \n",
      "90% Доверительный интервал для стандартного отклонения при известном матиматическом ожидании: [0.04189; 0.04854]\n",
      "(для uniform_sam_3) \n",
      "      \n"
     ]
    }
   ],
   "source": [
    "var_nomat_90(uniform_sam_1)\n",
    "print('(для uniform_sam_1)', '\\n', '     ')\n",
    "var_nomat_90(uniform_sam_2)\n",
    "print('(для uniform_sam_2)', '\\n', '     ')\n",
    "var_nomat_90(uniform_sam_3)\n",
    "print('(для uniform_sam_3)', '\\n', '     ')"
   ]
  },
  {
   "cell_type": "markdown",
   "id": "59bb9a7f",
   "metadata": {},
   "source": [
    "5. Сделайте выводы о том, как соотносятся между собой доверительные интервалы в пунктах 1-4."
   ]
  },
  {
   "cell_type": "markdown",
   "id": "e6adc6ee",
   "metadata": {},
   "source": []
  },
  {
   "cell_type": "markdown",
   "id": "4287d36f",
   "metadata": {},
   "source": [
    "**2.3. Доверительные интервалы для разности параметров (10 баллов)**"
   ]
  },
  {
   "cell_type": "markdown",
   "id": "412fb210",
   "metadata": {},
   "source": [
    "1. Для каждой пары выборок из каждого распределения из пункта 2.1, предполагая их нормальность, постройте 90% и 95% доверительные интервалы для разностей математических ожиданий, предполагая дисперсии известными."
   ]
  },
  {
   "cell_type": "code",
   "execution_count": 63,
   "id": "bbc2cfca",
   "metadata": {},
   "outputs": [],
   "source": [
    "def interval_mat_90 (x, y):\n",
    "    diff = x.mean() - y.mean()\n",
    "    nx, ny = len(x), len(y)\n",
    "    std = np.sqrt(x.var()/nx + y.var()/ny)\n",
    "    left, right = stats.norm.interval(0.90, loc = diff, scale = std)\n",
    "    return print ('90% Доверительный интервал  для разностей математических ожиданий, предполагая дисперсии известными: [{:.4}; {:.4}]'.format(left, right))"
   ]
  },
  {
   "cell_type": "code",
   "execution_count": 64,
   "id": "5e6fa3b9",
   "metadata": {},
   "outputs": [
    {
     "name": "stdout",
     "output_type": "stream",
     "text": [
      "90% Доверительный интервал  для разностей математических ожиданий, предполагая дисперсии известными: [-0.4316; 0.459]\n",
      "(для norm_sam_1 и norm_sam_2) \n",
      "      \n",
      "90% Доверительный интервал  для разностей математических ожиданий, предполагая дисперсии известными: [-0.4684; 0.3453]\n",
      "(для norm_sam_1 и norm_sam_3) \n",
      "      \n",
      "90% Доверительный интервал  для разностей математических ожиданий, предполагая дисперсии известными: [-0.331; 0.1806]\n",
      "(для norm_sam_2 и norm_sam_3) \n",
      "      \n"
     ]
    }
   ],
   "source": [
    "interval_mat_90 (norm_sam_1, norm_sam_2)\n",
    "print('(для norm_sam_1 и norm_sam_2)', '\\n', '     ')\n",
    "interval_mat_90 (norm_sam_1, norm_sam_3)\n",
    "print('(для norm_sam_1 и norm_sam_3)', '\\n', '     ')\n",
    "interval_mat_90 (norm_sam_2, norm_sam_3)\n",
    "print('(для norm_sam_2 и norm_sam_3)', '\\n', '     ')"
   ]
  },
  {
   "cell_type": "code",
   "execution_count": 65,
   "id": "9c3b8ff6",
   "metadata": {},
   "outputs": [
    {
     "name": "stdout",
     "output_type": "stream",
     "text": [
      "90% Доверительный интервал  для разностей математических ожиданий, предполагая дисперсии известными: [-0.0745; 0.3165]\n",
      "(для exp_sam_1 и exp_sam_2) \n",
      "      \n",
      "90% Доверительный интервал  для разностей математических ожиданий, предполагая дисперсии известными: [-0.1684; 0.2003]\n",
      "(для exp_sam_1 и exp_sam_3) \n",
      "      \n",
      "90% Доверительный интервал  для разностей математических ожиданий, предполагая дисперсии известными: [-0.2006; -0.009617]\n",
      "(для exp_sam_2 и exp_sam_3) \n",
      "      \n"
     ]
    }
   ],
   "source": [
    "interval_mat_90 (exp_sam_1, exp_sam_2)\n",
    "print('(для exp_sam_1 и exp_sam_2)', '\\n', '     ')\n",
    "interval_mat_90 (exp_sam_1, exp_sam_3)\n",
    "print('(для exp_sam_1 и exp_sam_3)', '\\n', '     ')\n",
    "interval_mat_90 (exp_sam_2, exp_sam_3)\n",
    "print('(для exp_sam_2 и exp_sam_3)', '\\n', '     ')"
   ]
  },
  {
   "cell_type": "code",
   "execution_count": 66,
   "id": "0993a7c0",
   "metadata": {},
   "outputs": [
    {
     "name": "stdout",
     "output_type": "stream",
     "text": [
      "90% Доверительный интервал  для разностей математических ожиданий, предполагая дисперсии известными: [-0.1327; 0.4033]\n",
      "(для uniform_sam_1 и uniform_sam_2) \n",
      "      \n",
      "90% Доверительный интервал  для разностей математических ожиданий, предполагая дисперсии известными: [-0.2593; 0.2276]\n",
      "(для uniform_sam_1 и uniform_sam_3) \n",
      "      \n",
      "90% Доверительный интервал  для разностей математических ожиданий, предполагая дисперсии известными: [-0.3046; 0.002231]\n",
      "(для uniform_sam_2 и uniform_sam_3) \n",
      "      \n"
     ]
    }
   ],
   "source": [
    "interval_mat_90 (uniform_sam_1, uniform_sam_2)\n",
    "print('(для uniform_sam_1 и uniform_sam_2)', '\\n', '     ')\n",
    "interval_mat_90 (uniform_sam_1, uniform_sam_3)\n",
    "print('(для uniform_sam_1 и uniform_sam_3)', '\\n', '     ')\n",
    "interval_mat_90 (uniform_sam_2, uniform_sam_3)\n",
    "print('(для uniform_sam_2 и uniform_sam_3)', '\\n', '     ')"
   ]
  },
  {
   "cell_type": "code",
   "execution_count": 67,
   "id": "b37406ec",
   "metadata": {},
   "outputs": [],
   "source": [
    "def interval_mat (x, y):\n",
    "    diff = x.mean() - y.mean()\n",
    "    nx, ny = len(x), len(y)\n",
    "    std = np.sqrt(x.var()/nx + y.var()/ny)\n",
    "    left, right = stats.norm.interval(0.95, loc = diff, scale = std)\n",
    "    return print ('95% Доверительный интервал  для разностей математических ожиданий, предполагая дисперсии известными: [{:.4}; {:.4}]'.format(left, right))"
   ]
  },
  {
   "cell_type": "code",
   "execution_count": 68,
   "id": "b744cec8",
   "metadata": {},
   "outputs": [
    {
     "name": "stdout",
     "output_type": "stream",
     "text": [
      "95% Доверительный интервал  для разностей математических ожиданий, предполагая дисперсии известными: [-0.5169; 0.5443]\n",
      "(для norm_sam_1 и norm_sam_2) \n",
      "      \n",
      "95% Доверительный интервал  для разностей математических ожиданий, предполагая дисперсии известными: [-0.5463; 0.4232]\n",
      "(для norm_sam_1 и norm_sam_3) \n",
      "      \n",
      "95% Доверительный интервал  для разностей математических ожиданий, предполагая дисперсии известными: [-0.3801; 0.2296]\n",
      "(для norm_sam_2 и norm_sam_3) \n",
      "      \n"
     ]
    }
   ],
   "source": [
    "interval_mat (norm_sam_1, norm_sam_2)\n",
    "print('(для norm_sam_1 и norm_sam_2)', '\\n', '     ')\n",
    "interval_mat (norm_sam_1, norm_sam_3)\n",
    "print('(для norm_sam_1 и norm_sam_3)', '\\n', '     ')\n",
    "interval_mat (norm_sam_2, norm_sam_3)\n",
    "print('(для norm_sam_2 и norm_sam_3)', '\\n', '     ')"
   ]
  },
  {
   "cell_type": "code",
   "execution_count": 69,
   "id": "cfac471e",
   "metadata": {},
   "outputs": [
    {
     "name": "stdout",
     "output_type": "stream",
     "text": [
      "95% Доверительный интервал  для разностей математических ожиданий, предполагая дисперсии известными: [-0.112; 0.354]\n",
      "(для exp_sam_1 и exp_sam_2) \n",
      "      \n",
      "95% Доверительный интервал  для разностей математических ожиданий, предполагая дисперсии известными: [-0.2037; 0.2356]\n",
      "(для exp_sam_1 и exp_sam_3) \n",
      "      \n",
      "95% Доверительный интервал  для разностей математических ожиданий, предполагая дисперсии известными: [-0.2189; 0.008676]\n",
      "(для exp_sam_2 и exp_sam_3) \n",
      "      \n"
     ]
    }
   ],
   "source": [
    "interval_mat (exp_sam_1, exp_sam_2)\n",
    "print('(для exp_sam_1 и exp_sam_2)', '\\n', '     ')\n",
    "interval_mat (exp_sam_1, exp_sam_3)\n",
    "print('(для exp_sam_1 и exp_sam_3)', '\\n', '     ')\n",
    "interval_mat (exp_sam_2, exp_sam_3)\n",
    "print('(для exp_sam_2 и exp_sam_3)', '\\n', '     ')"
   ]
  },
  {
   "cell_type": "code",
   "execution_count": 70,
   "id": "b2307268",
   "metadata": {},
   "outputs": [
    {
     "name": "stdout",
     "output_type": "stream",
     "text": [
      "95% Доверительный интервал  для разностей математических ожиданий, предполагая дисперсии известными: [-0.184; 0.4546]\n",
      "(для uniform_sam_1 и uniform_sam_2) \n",
      "      \n",
      "95% Доверительный интервал  для разностей математических ожиданий, предполагая дисперсии известными: [-0.3059; 0.2742]\n",
      "(для uniform_sam_1 и uniform_sam_3) \n",
      "      \n",
      "95% Доверительный интервал  для разностей математических ожиданий, предполагая дисперсии известными: [-0.334; 0.03162]\n",
      "(для uniform_sam_2 и uniform_sam_3) \n",
      "      \n"
     ]
    }
   ],
   "source": [
    "interval_mat (uniform_sam_1, uniform_sam_2)\n",
    "print('(для uniform_sam_1 и uniform_sam_2)', '\\n', '     ')\n",
    "interval_mat (uniform_sam_1, uniform_sam_3)\n",
    "print('(для uniform_sam_1 и uniform_sam_3)', '\\n', '     ')\n",
    "interval_mat (uniform_sam_2, uniform_sam_3)\n",
    "print('(для uniform_sam_2 и uniform_sam_3)', '\\n', '     ')"
   ]
  },
  {
   "cell_type": "markdown",
   "id": "726e061d",
   "metadata": {},
   "source": [
    "2. Для каждой пары выборок из каждого распределения из пункта 2.1, предполагая их нормальность, постройте 90% и 95%  доверительные интервалы для разностей математических ожиданий, предполагая дисперсии неизвестными, но равными.\n"
   ]
  },
  {
   "cell_type": "code",
   "execution_count": 71,
   "id": "811fc0ef",
   "metadata": {},
   "outputs": [],
   "source": [
    "def interval_90 (x, y):\n",
    "    diff = x.mean() - y.mean()\n",
    "    nx, ny = len(x), len(y)\n",
    "    s = ((nx-1)*x.var(ddof = 1) + (ny-1)*y.var(ddof = 1))/(nx + ny -2)\n",
    "    std = np.sqrt(s/nx + s/ny)\n",
    "    left, right = stats.t.interval(0.90, df= (nx+ny-2), loc = diff, scale = std)\n",
    "    return print ('90% Доверительный интервал  для разностей математических ожиданийй, предполагая дисперсии неизвестными, но равными:',\n",
    "                  '\\n', '[{:.4}; {:.4}]'.format(left, right), end='')"
   ]
  },
  {
   "cell_type": "code",
   "execution_count": 72,
   "id": "aa04938a",
   "metadata": {},
   "outputs": [
    {
     "name": "stdout",
     "output_type": "stream",
     "text": [
      "90% Доверительный интервал  для разностей математических ожиданийй, предполагая дисперсии неизвестными, но равными: \n",
      " [-0.4323; 0.4597] (для norm_sam_1 и norm_sam_2) \n",
      "      \n",
      "90% Доверительный интервал  для разностей математических ожиданийй, предполагая дисперсии неизвестными, но равными: \n",
      " [-0.4846; 0.3616] (для norm_sam_1 и norm_sam_3) \n",
      "      \n",
      "90% Доверительный интервал  для разностей математических ожиданийй, предполагая дисперсии неизвестными, но равными: \n",
      " [-0.3387; 0.1883] (для norm_sam_2 и norm_sam_3) \n",
      "      \n"
     ]
    }
   ],
   "source": [
    "interval_90 (norm_sam_1, norm_sam_2)\n",
    "print(' (для norm_sam_1 и norm_sam_2)', '\\n', '     ')\n",
    "interval_90 (norm_sam_1, norm_sam_3)\n",
    "print(' (для norm_sam_1 и norm_sam_3)', '\\n', '     ')\n",
    "interval_90 (norm_sam_2, norm_sam_3)\n",
    "print(' (для norm_sam_2 и norm_sam_3)', '\\n', '     ')"
   ]
  },
  {
   "cell_type": "code",
   "execution_count": 73,
   "id": "a73de81e",
   "metadata": {},
   "outputs": [
    {
     "name": "stdout",
     "output_type": "stream",
     "text": [
      "90% Доверительный интервал  для разностей математических ожиданийй, предполагая дисперсии неизвестными, но равными: \n",
      " [-0.05466; 0.2967] (для exp_sam_1 и exp_sam_2) \n",
      "      \n",
      "90% Доверительный интервал  для разностей математических ожиданийй, предполагая дисперсии неизвестными, но равными: \n",
      " [-0.1502; 0.182] (для exp_sam_1 и exp_sam_3) \n",
      "      \n",
      "90% Доверительный интервал  для разностей математических ожиданийй, предполагая дисперсии неизвестными, но равными: \n",
      " [-0.2058; -0.004364] (для exp_sam_2 и exp_sam_3) \n",
      "      \n"
     ]
    }
   ],
   "source": [
    "interval_90 (exp_sam_1, exp_sam_2)\n",
    "print(' (для exp_sam_1 и exp_sam_2)', '\\n', '     ')\n",
    "interval_90 (exp_sam_1, exp_sam_3)\n",
    "print(' (для exp_sam_1 и exp_sam_3)', '\\n', '     ')\n",
    "interval_90 (exp_sam_2, exp_sam_3)\n",
    "print(' (для exp_sam_2 и exp_sam_3)', '\\n', '     ')"
   ]
  },
  {
   "cell_type": "code",
   "execution_count": 74,
   "id": "d7e06201",
   "metadata": {},
   "outputs": [
    {
     "name": "stdout",
     "output_type": "stream",
     "text": [
      "90% Доверительный интервал  для разностей математических ожиданийй, предполагая дисперсии неизвестными, но равными: \n",
      " [-0.1345; 0.4051] (для uniform_sam_1 и uniform_sam_2) \n",
      "      \n",
      "90% Доверительный интервал  для разностей математических ожиданийй, предполагая дисперсии неизвестными, но равными: \n",
      " [-0.2617; 0.23] (для uniform_sam_1 и uniform_sam_3) \n",
      "      \n",
      "90% Доверительный интервал  для разностей математических ожиданийй, предполагая дисперсии неизвестными, но равными: \n",
      " [-0.3053; 0.002985] (для uniform_sam_2 и uniform_sam_3) \n",
      "      \n"
     ]
    }
   ],
   "source": [
    "interval_90 (uniform_sam_1, uniform_sam_2)\n",
    "print(' (для uniform_sam_1 и uniform_sam_2)', '\\n', '     ')\n",
    "interval_90 (uniform_sam_1, uniform_sam_3)\n",
    "print(' (для uniform_sam_1 и uniform_sam_3)', '\\n', '     ')\n",
    "interval_90 (uniform_sam_2, uniform_sam_3)\n",
    "print(' (для uniform_sam_2 и uniform_sam_3)', '\\n', '     ')"
   ]
  },
  {
   "cell_type": "code",
   "execution_count": 75,
   "id": "6bf4e9b0",
   "metadata": {},
   "outputs": [],
   "source": [
    "def interval_95 (x, y):\n",
    "    diff = x.mean() - y.mean()\n",
    "    nx, ny = len(x), len(y)\n",
    "    s = ((nx-1)*x.var(ddof = 1) + (ny-1)*y.var(ddof = 1))/(nx + ny -2)\n",
    "    std = np.sqrt(s/nx + s/ny)\n",
    "    left, right = stats.t.interval(0.95, df= (nx+ny-2), loc = diff, scale = std)\n",
    "    return print ('95% Доверительный интервал  для разностей математических ожиданийй, предполагая дисперсии неизвестными, но равными:',\n",
    "                  '\\n', '[{:.4}; {:.4}]'.format(left, right), end='')"
   ]
  },
  {
   "cell_type": "code",
   "execution_count": 76,
   "id": "15b1c8f6",
   "metadata": {},
   "outputs": [
    {
     "name": "stdout",
     "output_type": "stream",
     "text": [
      "95% Доверительный интервал  для разностей математических ожиданийй, предполагая дисперсии неизвестными, но равными: \n",
      " [-0.5181; 0.5455] (для norm_sam_1 и norm_sam_2) \n",
      "      \n",
      "95% Доверительный интервал  для разностей математических ожиданийй, предполагая дисперсии неизвестными, но равными: \n",
      " [-0.5658; 0.4428] (для norm_sam_1 и norm_sam_3) \n",
      "      \n",
      "95% Доверительный интервал  для разностей математических ожиданийй, предполагая дисперсии неизвестными, но равными: \n",
      " [-0.3893; 0.2388] (для norm_sam_2 и norm_sam_3) \n",
      "      \n"
     ]
    }
   ],
   "source": [
    "interval_95 (norm_sam_1, norm_sam_2)\n",
    "print(' (для norm_sam_1 и norm_sam_2)', '\\n', '     ')\n",
    "interval_95 (norm_sam_1, norm_sam_3)\n",
    "print(' (для norm_sam_1 и norm_sam_3)', '\\n', '     ')\n",
    "interval_95 (norm_sam_2, norm_sam_3)\n",
    "print(' (для norm_sam_2 и norm_sam_3)', '\\n', '     ')"
   ]
  },
  {
   "cell_type": "code",
   "execution_count": 77,
   "id": "7cccc6e2",
   "metadata": {},
   "outputs": [
    {
     "name": "stdout",
     "output_type": "stream",
     "text": [
      "95% Доверительный интервал  для разностей математических ожиданийй, предполагая дисперсии неизвестными, но равными: \n",
      " [-0.08847; 0.3305] (для exp_sam_1 и exp_sam_2) \n",
      "      \n",
      "95% Доверительный интервал  для разностей математических ожиданийй, предполагая дисперсии неизвестными, но равными: \n",
      " [-0.1821; 0.2139] (для exp_sam_1 и exp_sam_3) \n",
      "      \n",
      "95% Доверительный интервал  для разностей математических ожиданийй, предполагая дисперсии неизвестными, но равными: \n",
      " [-0.2252; 0.01496] (для exp_sam_2 и exp_sam_3) \n",
      "      \n"
     ]
    }
   ],
   "source": [
    "interval_95 (exp_sam_1, exp_sam_2)\n",
    "print(' (для exp_sam_1 и exp_sam_2)', '\\n', '     ')\n",
    "interval_95 (exp_sam_1, exp_sam_3)\n",
    "print(' (для exp_sam_1 и exp_sam_3)', '\\n', '     ')\n",
    "interval_95 (exp_sam_2, exp_sam_3)\n",
    "print(' (для exp_sam_2 и exp_sam_3)', '\\n', '     ')"
   ]
  },
  {
   "cell_type": "code",
   "execution_count": 78,
   "id": "fceb9881",
   "metadata": {},
   "outputs": [
    {
     "name": "stdout",
     "output_type": "stream",
     "text": [
      "95% Доверительный интервал  для разностей математических ожиданийй, предполагая дисперсии неизвестными, но равными: \n",
      " [-0.1864; 0.457] (для uniform_sam_1 и uniform_sam_2) \n",
      "      \n",
      "95% Доверительный интервал  для разностей математических ожиданийй, предполагая дисперсии неизвестными, но равными: \n",
      " [-0.3089; 0.2771] (для uniform_sam_1 и uniform_sam_3) \n",
      "      \n",
      "95% Доверительный интервал  для разностей математических ожиданийй, предполагая дисперсии неизвестными, но равными: \n",
      " [-0.3349; 0.03256] (для uniform_sam_2 и uniform_sam_3) \n",
      "      \n"
     ]
    }
   ],
   "source": [
    "interval_95 (uniform_sam_1, uniform_sam_2)\n",
    "print(' (для uniform_sam_1 и uniform_sam_2)', '\\n', '     ')\n",
    "interval_95 (uniform_sam_1, uniform_sam_3)\n",
    "print(' (для uniform_sam_1 и uniform_sam_3)', '\\n', '     ')\n",
    "interval_95 (uniform_sam_2, uniform_sam_3)\n",
    "print(' (для uniform_sam_2 и uniform_sam_3)', '\\n', '     ')"
   ]
  },
  {
   "cell_type": "markdown",
   "id": "8949db69",
   "metadata": {},
   "source": [
    "3. Преобразуйте 3 выборки из равномерного распределения (пункт 2.1.3) в 3 выборки из биномиального распределения с помощью следующего правила: если элемент выборки меньше 277/12, то ставим 0, если больше или равен 277/12, то ставим 1 . Для всех трех пар выборок построить 90% и 95% доверительные интервалы для всех возможных разностей долей.\n"
   ]
  },
  {
   "cell_type": "code",
   "execution_count": 79,
   "id": "a7233351",
   "metadata": {},
   "outputs": [],
   "source": [
    "def binom (x):\n",
    "    bin = []\n",
    "    a= 23.083\n",
    "    for i in range (len(x)):\n",
    "        if x[i] < a:\n",
    "            bin.append(0)\n",
    "        elif x[i]>=a:\n",
    "            bin.append(1)\n",
    "    bin = np.asarray(bin)\n",
    "    return bin"
   ]
  },
  {
   "cell_type": "code",
   "execution_count": 80,
   "id": "5f047c0a",
   "metadata": {},
   "outputs": [],
   "source": [
    "bin_sample_1 = binom (uniform_sam_1)\n",
    "bin_sample_2 = binom (uniform_sam_2)\n",
    "bin_sample_3 = binom (uniform_sam_3)"
   ]
  },
  {
   "cell_type": "code",
   "execution_count": 81,
   "id": "e3158d6f",
   "metadata": {},
   "outputs": [],
   "source": [
    "def interval_dol_90 (x, y):\n",
    "    diff = x.mean() - y.mean()\n",
    "    nx, ny = len(x), len(y)\n",
    "    std = np.sqrt(((x.mean()*(1-x.mean()))/nx) + ((y.mean()*(1-y.mean()))/ny)) \n",
    "    left, right = stats.norm.interval(0.90, loc = diff, scale = std)\n",
    "    return print ('90% Доверительный интервал  для разностей долей: [{:.4}; {:.4}]'.format(left, right), end ='')"
   ]
  },
  {
   "cell_type": "code",
   "execution_count": 82,
   "id": "e7b4b16d",
   "metadata": {},
   "outputs": [
    {
     "name": "stdout",
     "output_type": "stream",
     "text": [
      "90% Доверительный интервал  для разностей долей: [-0.06108; 0.1278] (для bin_sample_1 и bin_sample_2) \n",
      "      \n",
      "90% Доверительный интервал  для разностей долей: [-0.0996; 0.0716] (для bin_sample_1 и bin_sample_3) \n",
      "      \n",
      "90% Доверительный интервал  для разностей долей: [-0.1013; 0.006609] (для bin_sample_2 и bin_sample_3) \n",
      "      \n"
     ]
    }
   ],
   "source": [
    "interval_dol_90 (bin_sample_1, bin_sample_2)\n",
    "print (' (для bin_sample_1 и bin_sample_2)', '\\n', '     ')\n",
    "interval_dol_90 (bin_sample_1, bin_sample_3)\n",
    "print (' (для bin_sample_1 и bin_sample_3)', '\\n', '     ')\n",
    "interval_dol_90 (bin_sample_2, bin_sample_3)\n",
    "print (' (для bin_sample_2 и bin_sample_3)', '\\n', '     ')"
   ]
  },
  {
   "cell_type": "markdown",
   "id": "00500a34",
   "metadata": {},
   "source": [
    "4. Сделайте выводы о том, как соотносятся между собой доверительные интервалы в пунктах 1-3. "
   ]
  },
  {
   "cell_type": "markdown",
   "id": "c04b465c",
   "metadata": {},
   "source": []
  },
  {
   "cell_type": "markdown",
   "id": "a12fb7db",
   "metadata": {},
   "source": [
    "## Задание 3. Проверка гипотез"
   ]
  },
  {
   "cell_type": "markdown",
   "id": "bb926c17",
   "metadata": {},
   "source": [
    "1. Создайте 100 выборок объемом n=100 из нормального распределения с параметрами μ = 18 и σ^2 = 20."
   ]
  },
  {
   "cell_type": "code",
   "execution_count": 83,
   "id": "5d2b7fc5",
   "metadata": {},
   "outputs": [
    {
     "data": {
      "text/html": [
       "<div>\n",
       "<style scoped>\n",
       "    .dataframe tbody tr th:only-of-type {\n",
       "        vertical-align: middle;\n",
       "    }\n",
       "\n",
       "    .dataframe tbody tr th {\n",
       "        vertical-align: top;\n",
       "    }\n",
       "\n",
       "    .dataframe thead th {\n",
       "        text-align: right;\n",
       "    }\n",
       "</style>\n",
       "<table border=\"1\" class=\"dataframe\">\n",
       "  <thead>\n",
       "    <tr style=\"text-align: right;\">\n",
       "      <th></th>\n",
       "      <th>1</th>\n",
       "      <th>2</th>\n",
       "      <th>3</th>\n",
       "      <th>4</th>\n",
       "      <th>5</th>\n",
       "      <th>6</th>\n",
       "      <th>7</th>\n",
       "      <th>8</th>\n",
       "      <th>9</th>\n",
       "      <th>10</th>\n",
       "      <th>...</th>\n",
       "      <th>91</th>\n",
       "      <th>92</th>\n",
       "      <th>93</th>\n",
       "      <th>94</th>\n",
       "      <th>95</th>\n",
       "      <th>96</th>\n",
       "      <th>97</th>\n",
       "      <th>98</th>\n",
       "      <th>99</th>\n",
       "      <th>100</th>\n",
       "    </tr>\n",
       "  </thead>\n",
       "  <tbody>\n",
       "    <tr>\n",
       "      <th>1</th>\n",
       "      <td>25.264293</td>\n",
       "      <td>16.136202</td>\n",
       "      <td>25.998990</td>\n",
       "      <td>18.226119</td>\n",
       "      <td>19.973229</td>\n",
       "      <td>16.605661</td>\n",
       "      <td>25.560261</td>\n",
       "      <td>18.407880</td>\n",
       "      <td>18.004958</td>\n",
       "      <td>23.955036</td>\n",
       "      <td>...</td>\n",
       "      <td>15.289344</td>\n",
       "      <td>19.029930</td>\n",
       "      <td>25.290467</td>\n",
       "      <td>21.324824</td>\n",
       "      <td>15.029210</td>\n",
       "      <td>18.312369</td>\n",
       "      <td>10.168450</td>\n",
       "      <td>20.118527</td>\n",
       "      <td>17.363352</td>\n",
       "      <td>10.174811</td>\n",
       "    </tr>\n",
       "    <tr>\n",
       "      <th>2</th>\n",
       "      <td>15.264142</td>\n",
       "      <td>17.748367</td>\n",
       "      <td>19.952131</td>\n",
       "      <td>20.235850</td>\n",
       "      <td>16.520304</td>\n",
       "      <td>21.260205</td>\n",
       "      <td>15.916265</td>\n",
       "      <td>22.880365</td>\n",
       "      <td>16.705120</td>\n",
       "      <td>21.198825</td>\n",
       "      <td>...</td>\n",
       "      <td>13.259805</td>\n",
       "      <td>19.377183</td>\n",
       "      <td>22.922641</td>\n",
       "      <td>24.802939</td>\n",
       "      <td>15.395290</td>\n",
       "      <td>17.782363</td>\n",
       "      <td>16.078778</td>\n",
       "      <td>25.323585</td>\n",
       "      <td>27.200175</td>\n",
       "      <td>19.532513</td>\n",
       "    </tr>\n",
       "    <tr>\n",
       "      <th>3</th>\n",
       "      <td>15.637944</td>\n",
       "      <td>8.446641</td>\n",
       "      <td>18.431550</td>\n",
       "      <td>13.546160</td>\n",
       "      <td>28.870739</td>\n",
       "      <td>18.974124</td>\n",
       "      <td>18.146776</td>\n",
       "      <td>9.292884</td>\n",
       "      <td>13.008800</td>\n",
       "      <td>11.088760</td>\n",
       "      <td>...</td>\n",
       "      <td>15.536212</td>\n",
       "      <td>14.707035</td>\n",
       "      <td>27.222573</td>\n",
       "      <td>14.838841</td>\n",
       "      <td>19.518646</td>\n",
       "      <td>15.049525</td>\n",
       "      <td>14.662046</td>\n",
       "      <td>22.465615</td>\n",
       "      <td>19.266786</td>\n",
       "      <td>23.156533</td>\n",
       "    </tr>\n",
       "    <tr>\n",
       "      <th>4</th>\n",
       "      <td>13.201538</td>\n",
       "      <td>25.335514</td>\n",
       "      <td>9.666207</td>\n",
       "      <td>21.101867</td>\n",
       "      <td>16.872610</td>\n",
       "      <td>13.979139</td>\n",
       "      <td>19.822468</td>\n",
       "      <td>11.800056</td>\n",
       "      <td>17.942387</td>\n",
       "      <td>17.962506</td>\n",
       "      <td>...</td>\n",
       "      <td>16.767094</td>\n",
       "      <td>6.269595</td>\n",
       "      <td>20.075143</td>\n",
       "      <td>25.838660</td>\n",
       "      <td>20.680101</td>\n",
       "      <td>19.598204</td>\n",
       "      <td>22.502760</td>\n",
       "      <td>14.836380</td>\n",
       "      <td>23.947100</td>\n",
       "      <td>16.871072</td>\n",
       "    </tr>\n",
       "    <tr>\n",
       "      <th>5</th>\n",
       "      <td>21.870221</td>\n",
       "      <td>9.979512</td>\n",
       "      <td>16.759482</td>\n",
       "      <td>16.129299</td>\n",
       "      <td>18.490190</td>\n",
       "      <td>6.878779</td>\n",
       "      <td>14.471829</td>\n",
       "      <td>7.729777</td>\n",
       "      <td>16.307916</td>\n",
       "      <td>20.778699</td>\n",
       "      <td>...</td>\n",
       "      <td>23.466085</td>\n",
       "      <td>17.110286</td>\n",
       "      <td>25.388252</td>\n",
       "      <td>8.235447</td>\n",
       "      <td>22.868099</td>\n",
       "      <td>18.590501</td>\n",
       "      <td>15.356414</td>\n",
       "      <td>13.339107</td>\n",
       "      <td>17.308510</td>\n",
       "      <td>22.388600</td>\n",
       "    </tr>\n",
       "  </tbody>\n",
       "</table>\n",
       "<p>5 rows × 100 columns</p>\n",
       "</div>"
      ],
      "text/plain": [
       "         1          2          3          4          5          6    \\\n",
       "1  25.264293  16.136202  25.998990  18.226119  19.973229  16.605661   \n",
       "2  15.264142  17.748367  19.952131  20.235850  16.520304  21.260205   \n",
       "3  15.637944   8.446641  18.431550  13.546160  28.870739  18.974124   \n",
       "4  13.201538  25.335514   9.666207  21.101867  16.872610  13.979139   \n",
       "5  21.870221   9.979512  16.759482  16.129299  18.490190   6.878779   \n",
       "\n",
       "         7          8          9          10   ...        91         92   \\\n",
       "1  25.560261  18.407880  18.004958  23.955036  ...  15.289344  19.029930   \n",
       "2  15.916265  22.880365  16.705120  21.198825  ...  13.259805  19.377183   \n",
       "3  18.146776   9.292884  13.008800  11.088760  ...  15.536212  14.707035   \n",
       "4  19.822468  11.800056  17.942387  17.962506  ...  16.767094   6.269595   \n",
       "5  14.471829   7.729777  16.307916  20.778699  ...  23.466085  17.110286   \n",
       "\n",
       "         93         94         95         96         97         98   \\\n",
       "1  25.290467  21.324824  15.029210  18.312369  10.168450  20.118527   \n",
       "2  22.922641  24.802939  15.395290  17.782363  16.078778  25.323585   \n",
       "3  27.222573  14.838841  19.518646  15.049525  14.662046  22.465615   \n",
       "4  20.075143  25.838660  20.680101  19.598204  22.502760  14.836380   \n",
       "5  25.388252   8.235447  22.868099  18.590501  15.356414  13.339107   \n",
       "\n",
       "         99         100  \n",
       "1  17.363352  10.174811  \n",
       "2  27.200175  19.532513  \n",
       "3  19.266786  23.156533  \n",
       "4  23.947100  16.871072  \n",
       "5  17.308510  22.388600  \n",
       "\n",
       "[5 rows x 100 columns]"
      ]
     },
     "execution_count": 83,
     "metadata": {},
     "output_type": "execute_result"
    }
   ],
   "source": [
    "dt = pd.DataFrame()\n",
    "for i in range (1, 101):\n",
    "    dt[i] = stats.norm(18, np.sqrt(20)).rvs(100, random_state= i)\n",
    "dt.index = np.arange(1, len(dt)+1)\n",
    "dt.head()"
   ]
  },
  {
   "cell_type": "markdown",
   "id": "fe8ecdac",
   "metadata": {},
   "source": [
    "2. Для каждой выборки на 1%, 5% 10% уровне значимости проверьте гипотезу о том, что математическое ожидание равно истинному значению (при известной дисперсии).Рассчитайте долю верных ответов."
   ]
  },
  {
   "cell_type": "code",
   "execution_count": 84,
   "id": "05dbe4fc",
   "metadata": {},
   "outputs": [
    {
     "data": {
      "text/html": [
       "<div>\n",
       "<style scoped>\n",
       "    .dataframe tbody tr th:only-of-type {\n",
       "        vertical-align: middle;\n",
       "    }\n",
       "\n",
       "    .dataframe tbody tr th {\n",
       "        vertical-align: top;\n",
       "    }\n",
       "\n",
       "    .dataframe thead th {\n",
       "        text-align: right;\n",
       "    }\n",
       "</style>\n",
       "<table border=\"1\" class=\"dataframe\">\n",
       "  <thead>\n",
       "    <tr style=\"text-align: right;\">\n",
       "      <th></th>\n",
       "      <th>1</th>\n",
       "      <th>2</th>\n",
       "      <th>3</th>\n",
       "      <th>4</th>\n",
       "      <th>5</th>\n",
       "      <th>6</th>\n",
       "      <th>7</th>\n",
       "      <th>8</th>\n",
       "      <th>9</th>\n",
       "      <th>10</th>\n",
       "      <th>...</th>\n",
       "      <th>91</th>\n",
       "      <th>92</th>\n",
       "      <th>93</th>\n",
       "      <th>94</th>\n",
       "      <th>95</th>\n",
       "      <th>96</th>\n",
       "      <th>97</th>\n",
       "      <th>98</th>\n",
       "      <th>99</th>\n",
       "      <th>100</th>\n",
       "    </tr>\n",
       "  </thead>\n",
       "  <tbody>\n",
       "    <tr>\n",
       "      <th>97</th>\n",
       "      <td>16.462240</td>\n",
       "      <td>19.701522</td>\n",
       "      <td>21.036901</td>\n",
       "      <td>15.782632</td>\n",
       "      <td>16.007977</td>\n",
       "      <td>17.912430</td>\n",
       "      <td>28.106790</td>\n",
       "      <td>18.377652</td>\n",
       "      <td>24.117847</td>\n",
       "      <td>15.844014</td>\n",
       "      <td>...</td>\n",
       "      <td>17.994348</td>\n",
       "      <td>19.693472</td>\n",
       "      <td>20.816061</td>\n",
       "      <td>18.516572</td>\n",
       "      <td>16.372491</td>\n",
       "      <td>10.341116</td>\n",
       "      <td>13.040851</td>\n",
       "      <td>18.469723</td>\n",
       "      <td>24.943590</td>\n",
       "      <td>17.660013</td>\n",
       "    </tr>\n",
       "    <tr>\n",
       "      <th>98</th>\n",
       "      <td>18.194971</td>\n",
       "      <td>17.028942</td>\n",
       "      <td>14.174369</td>\n",
       "      <td>17.233187</td>\n",
       "      <td>15.843893</td>\n",
       "      <td>25.436459</td>\n",
       "      <td>21.886462</td>\n",
       "      <td>29.118838</td>\n",
       "      <td>18.112279</td>\n",
       "      <td>18.400648</td>\n",
       "      <td>...</td>\n",
       "      <td>19.524920</td>\n",
       "      <td>18.750737</td>\n",
       "      <td>13.611375</td>\n",
       "      <td>22.967864</td>\n",
       "      <td>21.204173</td>\n",
       "      <td>12.797962</td>\n",
       "      <td>22.652856</td>\n",
       "      <td>18.892147</td>\n",
       "      <td>18.418697</td>\n",
       "      <td>18.017699</td>\n",
       "    </tr>\n",
       "    <tr>\n",
       "      <th>99</th>\n",
       "      <td>15.227272</td>\n",
       "      <td>23.248192</td>\n",
       "      <td>16.657438</td>\n",
       "      <td>13.776655</td>\n",
       "      <td>20.207257</td>\n",
       "      <td>18.136885</td>\n",
       "      <td>16.470006</td>\n",
       "      <td>17.130816</td>\n",
       "      <td>16.231350</td>\n",
       "      <td>21.698450</td>\n",
       "      <td>...</td>\n",
       "      <td>18.084509</td>\n",
       "      <td>20.781062</td>\n",
       "      <td>17.117383</td>\n",
       "      <td>16.651959</td>\n",
       "      <td>14.234410</td>\n",
       "      <td>14.051698</td>\n",
       "      <td>11.572988</td>\n",
       "      <td>12.904893</td>\n",
       "      <td>19.318501</td>\n",
       "      <td>17.172592</td>\n",
       "    </tr>\n",
       "    <tr>\n",
       "      <th>100</th>\n",
       "      <td>21.121694</td>\n",
       "      <td>7.519088</td>\n",
       "      <td>27.651537</td>\n",
       "      <td>19.256065</td>\n",
       "      <td>20.238247</td>\n",
       "      <td>16.669543</td>\n",
       "      <td>15.889480</td>\n",
       "      <td>17.167229</td>\n",
       "      <td>23.743956</td>\n",
       "      <td>9.259156</td>\n",
       "      <td>...</td>\n",
       "      <td>14.917627</td>\n",
       "      <td>23.935487</td>\n",
       "      <td>18.942146</td>\n",
       "      <td>21.358637</td>\n",
       "      <td>12.494262</td>\n",
       "      <td>16.826020</td>\n",
       "      <td>21.601876</td>\n",
       "      <td>21.856851</td>\n",
       "      <td>24.643048</td>\n",
       "      <td>6.877120</td>\n",
       "    </tr>\n",
       "    <tr>\n",
       "      <th>z-stat</th>\n",
       "      <td>0.206688</td>\n",
       "      <td>-1.286678</td>\n",
       "      <td>-1.300953</td>\n",
       "      <td>-0.046764</td>\n",
       "      <td>0.499356</td>\n",
       "      <td>0.636198</td>\n",
       "      <td>-0.254820</td>\n",
       "      <td>0.176745</td>\n",
       "      <td>-0.469915</td>\n",
       "      <td>0.369422</td>\n",
       "      <td>...</td>\n",
       "      <td>0.550161</td>\n",
       "      <td>-1.016238</td>\n",
       "      <td>0.175082</td>\n",
       "      <td>-0.255376</td>\n",
       "      <td>-0.878640</td>\n",
       "      <td>-2.188891</td>\n",
       "      <td>-1.532481</td>\n",
       "      <td>-1.846322</td>\n",
       "      <td>0.180983</td>\n",
       "      <td>-1.367906</td>\n",
       "    </tr>\n",
       "  </tbody>\n",
       "</table>\n",
       "<p>5 rows × 100 columns</p>\n",
       "</div>"
      ],
      "text/plain": [
       "              1          2          3          4          5          6    \\\n",
       "97      16.462240  19.701522  21.036901  15.782632  16.007977  17.912430   \n",
       "98      18.194971  17.028942  14.174369  17.233187  15.843893  25.436459   \n",
       "99      15.227272  23.248192  16.657438  13.776655  20.207257  18.136885   \n",
       "100     21.121694   7.519088  27.651537  19.256065  20.238247  16.669543   \n",
       "z-stat   0.206688  -1.286678  -1.300953  -0.046764   0.499356   0.636198   \n",
       "\n",
       "              7          8          9          10   ...        91         92   \\\n",
       "97      28.106790  18.377652  24.117847  15.844014  ...  17.994348  19.693472   \n",
       "98      21.886462  29.118838  18.112279  18.400648  ...  19.524920  18.750737   \n",
       "99      16.470006  17.130816  16.231350  21.698450  ...  18.084509  20.781062   \n",
       "100     15.889480  17.167229  23.743956   9.259156  ...  14.917627  23.935487   \n",
       "z-stat  -0.254820   0.176745  -0.469915   0.369422  ...   0.550161  -1.016238   \n",
       "\n",
       "              93         94         95         96         97         98   \\\n",
       "97      20.816061  18.516572  16.372491  10.341116  13.040851  18.469723   \n",
       "98      13.611375  22.967864  21.204173  12.797962  22.652856  18.892147   \n",
       "99      17.117383  16.651959  14.234410  14.051698  11.572988  12.904893   \n",
       "100     18.942146  21.358637  12.494262  16.826020  21.601876  21.856851   \n",
       "z-stat   0.175082  -0.255376  -0.878640  -2.188891  -1.532481  -1.846322   \n",
       "\n",
       "              99         100  \n",
       "97      24.943590  17.660013  \n",
       "98      18.418697  18.017699  \n",
       "99      19.318501  17.172592  \n",
       "100     24.643048   6.877120  \n",
       "z-stat   0.180983  -1.367906  \n",
       "\n",
       "[5 rows x 100 columns]"
      ]
     },
     "execution_count": 84,
     "metadata": {},
     "output_type": "execute_result"
    }
   ],
   "source": [
    "dt.loc['z-stat'] =0\n",
    "for i in range (1, 101):\n",
    "    dt[i].loc['z-stat'] = (dt[i].mean() - 18)/(np.sqrt(dt[i].var()/100))\n",
    "dt.tail()"
   ]
  },
  {
   "cell_type": "code",
   "execution_count": 85,
   "id": "c63801ea",
   "metadata": {},
   "outputs": [],
   "source": [
    "alpha = 0.01\n",
    "z_crit = stats.norm().ppf(1-alpha/2)\n",
    "dt.loc['z_crit (alpha = 0.01)'] = z_crit"
   ]
  },
  {
   "cell_type": "code",
   "execution_count": 86,
   "id": "a2820bac",
   "metadata": {},
   "outputs": [],
   "source": [
    "dt.loc['Проверка гипотезы (alpha = 0.01):'] = ''\n",
    "for i in range(1, 101):\n",
    "    if dt[i].loc['z-stat'] > z_crit or dt[i].loc['z-stat'] < -z_crit:\n",
    "        dt[i].loc['Проверка гипотезы (alpha = 0.01):'] = 'H0 отвергается'\n",
    "    else:\n",
    "        dt[i].loc['Проверка гипотезы (alpha = 0.01):'] = 'Нет оснований отвергать H0'"
   ]
  },
  {
   "cell_type": "code",
   "execution_count": 87,
   "id": "7bee0738",
   "metadata": {},
   "outputs": [],
   "source": [
    "alpha = 0.05\n",
    "z_crit = stats.norm().ppf(1-alpha/2)\n",
    "dt.loc['z_crit (alpha = 0.05)'] = z_crit"
   ]
  },
  {
   "cell_type": "code",
   "execution_count": 88,
   "id": "4619c0b3",
   "metadata": {},
   "outputs": [],
   "source": [
    "dt.loc['Проверка гипотезы (alpha = 0.05):'] = ''\n",
    "for i in range(1, 101):\n",
    "    if dt[i].loc['z-stat'] > z_crit or dt[i].loc['z-stat'] < -z_crit:\n",
    "        dt[i].loc['Проверка гипотезы (alpha = 0.05):'] = 'H0 отвергается'\n",
    "    else:\n",
    "        dt[i].loc['Проверка гипотезы (alpha = 0.05):'] = 'Нет оснований отвергать H0'"
   ]
  },
  {
   "cell_type": "code",
   "execution_count": 89,
   "id": "e3dac102",
   "metadata": {},
   "outputs": [],
   "source": [
    "alpha = 0.1\n",
    "z_crit = stats.norm().ppf(1-alpha/2)\n",
    "dt.loc['z_crit (alpha = 0.1)'] = z_crit"
   ]
  },
  {
   "cell_type": "code",
   "execution_count": 90,
   "id": "6689abe7",
   "metadata": {},
   "outputs": [
    {
     "data": {
      "text/html": [
       "<div>\n",
       "<style scoped>\n",
       "    .dataframe tbody tr th:only-of-type {\n",
       "        vertical-align: middle;\n",
       "    }\n",
       "\n",
       "    .dataframe tbody tr th {\n",
       "        vertical-align: top;\n",
       "    }\n",
       "\n",
       "    .dataframe thead th {\n",
       "        text-align: right;\n",
       "    }\n",
       "</style>\n",
       "<table border=\"1\" class=\"dataframe\">\n",
       "  <thead>\n",
       "    <tr style=\"text-align: right;\">\n",
       "      <th></th>\n",
       "      <th>1</th>\n",
       "      <th>2</th>\n",
       "      <th>3</th>\n",
       "      <th>4</th>\n",
       "      <th>5</th>\n",
       "      <th>6</th>\n",
       "      <th>7</th>\n",
       "      <th>8</th>\n",
       "      <th>9</th>\n",
       "      <th>10</th>\n",
       "      <th>...</th>\n",
       "      <th>91</th>\n",
       "      <th>92</th>\n",
       "      <th>93</th>\n",
       "      <th>94</th>\n",
       "      <th>95</th>\n",
       "      <th>96</th>\n",
       "      <th>97</th>\n",
       "      <th>98</th>\n",
       "      <th>99</th>\n",
       "      <th>100</th>\n",
       "    </tr>\n",
       "  </thead>\n",
       "  <tbody>\n",
       "    <tr>\n",
       "      <th>98</th>\n",
       "      <td>18.194971</td>\n",
       "      <td>17.028942</td>\n",
       "      <td>14.174369</td>\n",
       "      <td>17.233187</td>\n",
       "      <td>15.843893</td>\n",
       "      <td>25.436459</td>\n",
       "      <td>21.886462</td>\n",
       "      <td>29.118838</td>\n",
       "      <td>18.112279</td>\n",
       "      <td>18.400648</td>\n",
       "      <td>...</td>\n",
       "      <td>19.52492</td>\n",
       "      <td>18.750737</td>\n",
       "      <td>13.611375</td>\n",
       "      <td>22.967864</td>\n",
       "      <td>21.204173</td>\n",
       "      <td>12.797962</td>\n",
       "      <td>22.652856</td>\n",
       "      <td>18.892147</td>\n",
       "      <td>18.418697</td>\n",
       "      <td>18.017699</td>\n",
       "    </tr>\n",
       "    <tr>\n",
       "      <th>99</th>\n",
       "      <td>15.227272</td>\n",
       "      <td>23.248192</td>\n",
       "      <td>16.657438</td>\n",
       "      <td>13.776655</td>\n",
       "      <td>20.207257</td>\n",
       "      <td>18.136885</td>\n",
       "      <td>16.470006</td>\n",
       "      <td>17.130816</td>\n",
       "      <td>16.23135</td>\n",
       "      <td>21.69845</td>\n",
       "      <td>...</td>\n",
       "      <td>18.084509</td>\n",
       "      <td>20.781062</td>\n",
       "      <td>17.117383</td>\n",
       "      <td>16.651959</td>\n",
       "      <td>14.23441</td>\n",
       "      <td>14.051698</td>\n",
       "      <td>11.572988</td>\n",
       "      <td>12.904893</td>\n",
       "      <td>19.318501</td>\n",
       "      <td>17.172592</td>\n",
       "    </tr>\n",
       "    <tr>\n",
       "      <th>100</th>\n",
       "      <td>21.121694</td>\n",
       "      <td>7.519088</td>\n",
       "      <td>27.651537</td>\n",
       "      <td>19.256065</td>\n",
       "      <td>20.238247</td>\n",
       "      <td>16.669543</td>\n",
       "      <td>15.88948</td>\n",
       "      <td>17.167229</td>\n",
       "      <td>23.743956</td>\n",
       "      <td>9.259156</td>\n",
       "      <td>...</td>\n",
       "      <td>14.917627</td>\n",
       "      <td>23.935487</td>\n",
       "      <td>18.942146</td>\n",
       "      <td>21.358637</td>\n",
       "      <td>12.494262</td>\n",
       "      <td>16.82602</td>\n",
       "      <td>21.601876</td>\n",
       "      <td>21.856851</td>\n",
       "      <td>24.643048</td>\n",
       "      <td>6.87712</td>\n",
       "    </tr>\n",
       "    <tr>\n",
       "      <th>z-stat</th>\n",
       "      <td>0.206688</td>\n",
       "      <td>-1.286678</td>\n",
       "      <td>-1.300953</td>\n",
       "      <td>-0.046764</td>\n",
       "      <td>0.499356</td>\n",
       "      <td>0.636198</td>\n",
       "      <td>-0.25482</td>\n",
       "      <td>0.176745</td>\n",
       "      <td>-0.469915</td>\n",
       "      <td>0.369422</td>\n",
       "      <td>...</td>\n",
       "      <td>0.550161</td>\n",
       "      <td>-1.016238</td>\n",
       "      <td>0.175082</td>\n",
       "      <td>-0.255376</td>\n",
       "      <td>-0.87864</td>\n",
       "      <td>-2.188891</td>\n",
       "      <td>-1.532481</td>\n",
       "      <td>-1.846322</td>\n",
       "      <td>0.180983</td>\n",
       "      <td>-1.367906</td>\n",
       "    </tr>\n",
       "    <tr>\n",
       "      <th>z_crit (alpha = 0.01)</th>\n",
       "      <td>2.575829</td>\n",
       "      <td>2.575829</td>\n",
       "      <td>2.575829</td>\n",
       "      <td>2.575829</td>\n",
       "      <td>2.575829</td>\n",
       "      <td>2.575829</td>\n",
       "      <td>2.575829</td>\n",
       "      <td>2.575829</td>\n",
       "      <td>2.575829</td>\n",
       "      <td>2.575829</td>\n",
       "      <td>...</td>\n",
       "      <td>2.575829</td>\n",
       "      <td>2.575829</td>\n",
       "      <td>2.575829</td>\n",
       "      <td>2.575829</td>\n",
       "      <td>2.575829</td>\n",
       "      <td>2.575829</td>\n",
       "      <td>2.575829</td>\n",
       "      <td>2.575829</td>\n",
       "      <td>2.575829</td>\n",
       "      <td>2.575829</td>\n",
       "    </tr>\n",
       "    <tr>\n",
       "      <th>Проверка гипотезы (alpha = 0.01):</th>\n",
       "      <td>Нет оснований отвергать H0</td>\n",
       "      <td>Нет оснований отвергать H0</td>\n",
       "      <td>Нет оснований отвергать H0</td>\n",
       "      <td>Нет оснований отвергать H0</td>\n",
       "      <td>Нет оснований отвергать H0</td>\n",
       "      <td>Нет оснований отвергать H0</td>\n",
       "      <td>Нет оснований отвергать H0</td>\n",
       "      <td>Нет оснований отвергать H0</td>\n",
       "      <td>Нет оснований отвергать H0</td>\n",
       "      <td>Нет оснований отвергать H0</td>\n",
       "      <td>...</td>\n",
       "      <td>Нет оснований отвергать H0</td>\n",
       "      <td>Нет оснований отвергать H0</td>\n",
       "      <td>Нет оснований отвергать H0</td>\n",
       "      <td>Нет оснований отвергать H0</td>\n",
       "      <td>Нет оснований отвергать H0</td>\n",
       "      <td>Нет оснований отвергать H0</td>\n",
       "      <td>Нет оснований отвергать H0</td>\n",
       "      <td>Нет оснований отвергать H0</td>\n",
       "      <td>Нет оснований отвергать H0</td>\n",
       "      <td>Нет оснований отвергать H0</td>\n",
       "    </tr>\n",
       "    <tr>\n",
       "      <th>z_crit (alpha = 0.05)</th>\n",
       "      <td>1.959964</td>\n",
       "      <td>1.959964</td>\n",
       "      <td>1.959964</td>\n",
       "      <td>1.959964</td>\n",
       "      <td>1.959964</td>\n",
       "      <td>1.959964</td>\n",
       "      <td>1.959964</td>\n",
       "      <td>1.959964</td>\n",
       "      <td>1.959964</td>\n",
       "      <td>1.959964</td>\n",
       "      <td>...</td>\n",
       "      <td>1.959964</td>\n",
       "      <td>1.959964</td>\n",
       "      <td>1.959964</td>\n",
       "      <td>1.959964</td>\n",
       "      <td>1.959964</td>\n",
       "      <td>1.959964</td>\n",
       "      <td>1.959964</td>\n",
       "      <td>1.959964</td>\n",
       "      <td>1.959964</td>\n",
       "      <td>1.959964</td>\n",
       "    </tr>\n",
       "    <tr>\n",
       "      <th>Проверка гипотезы (alpha = 0.05):</th>\n",
       "      <td>Нет оснований отвергать H0</td>\n",
       "      <td>Нет оснований отвергать H0</td>\n",
       "      <td>Нет оснований отвергать H0</td>\n",
       "      <td>Нет оснований отвергать H0</td>\n",
       "      <td>Нет оснований отвергать H0</td>\n",
       "      <td>Нет оснований отвергать H0</td>\n",
       "      <td>Нет оснований отвергать H0</td>\n",
       "      <td>Нет оснований отвергать H0</td>\n",
       "      <td>Нет оснований отвергать H0</td>\n",
       "      <td>Нет оснований отвергать H0</td>\n",
       "      <td>...</td>\n",
       "      <td>Нет оснований отвергать H0</td>\n",
       "      <td>Нет оснований отвергать H0</td>\n",
       "      <td>Нет оснований отвергать H0</td>\n",
       "      <td>Нет оснований отвергать H0</td>\n",
       "      <td>Нет оснований отвергать H0</td>\n",
       "      <td>H0 отвергается</td>\n",
       "      <td>Нет оснований отвергать H0</td>\n",
       "      <td>Нет оснований отвергать H0</td>\n",
       "      <td>Нет оснований отвергать H0</td>\n",
       "      <td>Нет оснований отвергать H0</td>\n",
       "    </tr>\n",
       "    <tr>\n",
       "      <th>z_crit (alpha = 0.1)</th>\n",
       "      <td>1.644854</td>\n",
       "      <td>1.644854</td>\n",
       "      <td>1.644854</td>\n",
       "      <td>1.644854</td>\n",
       "      <td>1.644854</td>\n",
       "      <td>1.644854</td>\n",
       "      <td>1.644854</td>\n",
       "      <td>1.644854</td>\n",
       "      <td>1.644854</td>\n",
       "      <td>1.644854</td>\n",
       "      <td>...</td>\n",
       "      <td>1.644854</td>\n",
       "      <td>1.644854</td>\n",
       "      <td>1.644854</td>\n",
       "      <td>1.644854</td>\n",
       "      <td>1.644854</td>\n",
       "      <td>1.644854</td>\n",
       "      <td>1.644854</td>\n",
       "      <td>1.644854</td>\n",
       "      <td>1.644854</td>\n",
       "      <td>1.644854</td>\n",
       "    </tr>\n",
       "    <tr>\n",
       "      <th>Проверка гипотезы (alpha = 0.1):</th>\n",
       "      <td>Нет оснований отвергать H0</td>\n",
       "      <td>Нет оснований отвергать H0</td>\n",
       "      <td>Нет оснований отвергать H0</td>\n",
       "      <td>Нет оснований отвергать H0</td>\n",
       "      <td>Нет оснований отвергать H0</td>\n",
       "      <td>Нет оснований отвергать H0</td>\n",
       "      <td>Нет оснований отвергать H0</td>\n",
       "      <td>Нет оснований отвергать H0</td>\n",
       "      <td>Нет оснований отвергать H0</td>\n",
       "      <td>Нет оснований отвергать H0</td>\n",
       "      <td>...</td>\n",
       "      <td>Нет оснований отвергать H0</td>\n",
       "      <td>Нет оснований отвергать H0</td>\n",
       "      <td>Нет оснований отвергать H0</td>\n",
       "      <td>Нет оснований отвергать H0</td>\n",
       "      <td>Нет оснований отвергать H0</td>\n",
       "      <td>H0 отвергается</td>\n",
       "      <td>Нет оснований отвергать H0</td>\n",
       "      <td>H0 отвергается</td>\n",
       "      <td>Нет оснований отвергать H0</td>\n",
       "      <td>Нет оснований отвергать H0</td>\n",
       "    </tr>\n",
       "  </tbody>\n",
       "</table>\n",
       "<p>10 rows × 100 columns</p>\n",
       "</div>"
      ],
      "text/plain": [
       "                                                          1    \\\n",
       "98                                                  18.194971   \n",
       "99                                                  15.227272   \n",
       "100                                                 21.121694   \n",
       "z-stat                                               0.206688   \n",
       "z_crit (alpha = 0.01)                                2.575829   \n",
       "Проверка гипотезы (alpha = 0.01):  Нет оснований отвергать H0   \n",
       "z_crit (alpha = 0.05)                                1.959964   \n",
       "Проверка гипотезы (alpha = 0.05):  Нет оснований отвергать H0   \n",
       "z_crit (alpha = 0.1)                                 1.644854   \n",
       "Проверка гипотезы (alpha = 0.1):   Нет оснований отвергать H0   \n",
       "\n",
       "                                                          2    \\\n",
       "98                                                  17.028942   \n",
       "99                                                  23.248192   \n",
       "100                                                  7.519088   \n",
       "z-stat                                              -1.286678   \n",
       "z_crit (alpha = 0.01)                                2.575829   \n",
       "Проверка гипотезы (alpha = 0.01):  Нет оснований отвергать H0   \n",
       "z_crit (alpha = 0.05)                                1.959964   \n",
       "Проверка гипотезы (alpha = 0.05):  Нет оснований отвергать H0   \n",
       "z_crit (alpha = 0.1)                                 1.644854   \n",
       "Проверка гипотезы (alpha = 0.1):   Нет оснований отвергать H0   \n",
       "\n",
       "                                                          3    \\\n",
       "98                                                  14.174369   \n",
       "99                                                  16.657438   \n",
       "100                                                 27.651537   \n",
       "z-stat                                              -1.300953   \n",
       "z_crit (alpha = 0.01)                                2.575829   \n",
       "Проверка гипотезы (alpha = 0.01):  Нет оснований отвергать H0   \n",
       "z_crit (alpha = 0.05)                                1.959964   \n",
       "Проверка гипотезы (alpha = 0.05):  Нет оснований отвергать H0   \n",
       "z_crit (alpha = 0.1)                                 1.644854   \n",
       "Проверка гипотезы (alpha = 0.1):   Нет оснований отвергать H0   \n",
       "\n",
       "                                                          4    \\\n",
       "98                                                  17.233187   \n",
       "99                                                  13.776655   \n",
       "100                                                 19.256065   \n",
       "z-stat                                              -0.046764   \n",
       "z_crit (alpha = 0.01)                                2.575829   \n",
       "Проверка гипотезы (alpha = 0.01):  Нет оснований отвергать H0   \n",
       "z_crit (alpha = 0.05)                                1.959964   \n",
       "Проверка гипотезы (alpha = 0.05):  Нет оснований отвергать H0   \n",
       "z_crit (alpha = 0.1)                                 1.644854   \n",
       "Проверка гипотезы (alpha = 0.1):   Нет оснований отвергать H0   \n",
       "\n",
       "                                                          5    \\\n",
       "98                                                  15.843893   \n",
       "99                                                  20.207257   \n",
       "100                                                 20.238247   \n",
       "z-stat                                               0.499356   \n",
       "z_crit (alpha = 0.01)                                2.575829   \n",
       "Проверка гипотезы (alpha = 0.01):  Нет оснований отвергать H0   \n",
       "z_crit (alpha = 0.05)                                1.959964   \n",
       "Проверка гипотезы (alpha = 0.05):  Нет оснований отвергать H0   \n",
       "z_crit (alpha = 0.1)                                 1.644854   \n",
       "Проверка гипотезы (alpha = 0.1):   Нет оснований отвергать H0   \n",
       "\n",
       "                                                          6    \\\n",
       "98                                                  25.436459   \n",
       "99                                                  18.136885   \n",
       "100                                                 16.669543   \n",
       "z-stat                                               0.636198   \n",
       "z_crit (alpha = 0.01)                                2.575829   \n",
       "Проверка гипотезы (alpha = 0.01):  Нет оснований отвергать H0   \n",
       "z_crit (alpha = 0.05)                                1.959964   \n",
       "Проверка гипотезы (alpha = 0.05):  Нет оснований отвергать H0   \n",
       "z_crit (alpha = 0.1)                                 1.644854   \n",
       "Проверка гипотезы (alpha = 0.1):   Нет оснований отвергать H0   \n",
       "\n",
       "                                                          7    \\\n",
       "98                                                  21.886462   \n",
       "99                                                  16.470006   \n",
       "100                                                  15.88948   \n",
       "z-stat                                               -0.25482   \n",
       "z_crit (alpha = 0.01)                                2.575829   \n",
       "Проверка гипотезы (alpha = 0.01):  Нет оснований отвергать H0   \n",
       "z_crit (alpha = 0.05)                                1.959964   \n",
       "Проверка гипотезы (alpha = 0.05):  Нет оснований отвергать H0   \n",
       "z_crit (alpha = 0.1)                                 1.644854   \n",
       "Проверка гипотезы (alpha = 0.1):   Нет оснований отвергать H0   \n",
       "\n",
       "                                                          8    \\\n",
       "98                                                  29.118838   \n",
       "99                                                  17.130816   \n",
       "100                                                 17.167229   \n",
       "z-stat                                               0.176745   \n",
       "z_crit (alpha = 0.01)                                2.575829   \n",
       "Проверка гипотезы (alpha = 0.01):  Нет оснований отвергать H0   \n",
       "z_crit (alpha = 0.05)                                1.959964   \n",
       "Проверка гипотезы (alpha = 0.05):  Нет оснований отвергать H0   \n",
       "z_crit (alpha = 0.1)                                 1.644854   \n",
       "Проверка гипотезы (alpha = 0.1):   Нет оснований отвергать H0   \n",
       "\n",
       "                                                          9    \\\n",
       "98                                                  18.112279   \n",
       "99                                                   16.23135   \n",
       "100                                                 23.743956   \n",
       "z-stat                                              -0.469915   \n",
       "z_crit (alpha = 0.01)                                2.575829   \n",
       "Проверка гипотезы (alpha = 0.01):  Нет оснований отвергать H0   \n",
       "z_crit (alpha = 0.05)                                1.959964   \n",
       "Проверка гипотезы (alpha = 0.05):  Нет оснований отвергать H0   \n",
       "z_crit (alpha = 0.1)                                 1.644854   \n",
       "Проверка гипотезы (alpha = 0.1):   Нет оснований отвергать H0   \n",
       "\n",
       "                                                          10   ...  \\\n",
       "98                                                  18.400648  ...   \n",
       "99                                                   21.69845  ...   \n",
       "100                                                  9.259156  ...   \n",
       "z-stat                                               0.369422  ...   \n",
       "z_crit (alpha = 0.01)                                2.575829  ...   \n",
       "Проверка гипотезы (alpha = 0.01):  Нет оснований отвергать H0  ...   \n",
       "z_crit (alpha = 0.05)                                1.959964  ...   \n",
       "Проверка гипотезы (alpha = 0.05):  Нет оснований отвергать H0  ...   \n",
       "z_crit (alpha = 0.1)                                 1.644854  ...   \n",
       "Проверка гипотезы (alpha = 0.1):   Нет оснований отвергать H0  ...   \n",
       "\n",
       "                                                          91   \\\n",
       "98                                                   19.52492   \n",
       "99                                                  18.084509   \n",
       "100                                                 14.917627   \n",
       "z-stat                                               0.550161   \n",
       "z_crit (alpha = 0.01)                                2.575829   \n",
       "Проверка гипотезы (alpha = 0.01):  Нет оснований отвергать H0   \n",
       "z_crit (alpha = 0.05)                                1.959964   \n",
       "Проверка гипотезы (alpha = 0.05):  Нет оснований отвергать H0   \n",
       "z_crit (alpha = 0.1)                                 1.644854   \n",
       "Проверка гипотезы (alpha = 0.1):   Нет оснований отвергать H0   \n",
       "\n",
       "                                                          92   \\\n",
       "98                                                  18.750737   \n",
       "99                                                  20.781062   \n",
       "100                                                 23.935487   \n",
       "z-stat                                              -1.016238   \n",
       "z_crit (alpha = 0.01)                                2.575829   \n",
       "Проверка гипотезы (alpha = 0.01):  Нет оснований отвергать H0   \n",
       "z_crit (alpha = 0.05)                                1.959964   \n",
       "Проверка гипотезы (alpha = 0.05):  Нет оснований отвергать H0   \n",
       "z_crit (alpha = 0.1)                                 1.644854   \n",
       "Проверка гипотезы (alpha = 0.1):   Нет оснований отвергать H0   \n",
       "\n",
       "                                                          93   \\\n",
       "98                                                  13.611375   \n",
       "99                                                  17.117383   \n",
       "100                                                 18.942146   \n",
       "z-stat                                               0.175082   \n",
       "z_crit (alpha = 0.01)                                2.575829   \n",
       "Проверка гипотезы (alpha = 0.01):  Нет оснований отвергать H0   \n",
       "z_crit (alpha = 0.05)                                1.959964   \n",
       "Проверка гипотезы (alpha = 0.05):  Нет оснований отвергать H0   \n",
       "z_crit (alpha = 0.1)                                 1.644854   \n",
       "Проверка гипотезы (alpha = 0.1):   Нет оснований отвергать H0   \n",
       "\n",
       "                                                          94   \\\n",
       "98                                                  22.967864   \n",
       "99                                                  16.651959   \n",
       "100                                                 21.358637   \n",
       "z-stat                                              -0.255376   \n",
       "z_crit (alpha = 0.01)                                2.575829   \n",
       "Проверка гипотезы (alpha = 0.01):  Нет оснований отвергать H0   \n",
       "z_crit (alpha = 0.05)                                1.959964   \n",
       "Проверка гипотезы (alpha = 0.05):  Нет оснований отвергать H0   \n",
       "z_crit (alpha = 0.1)                                 1.644854   \n",
       "Проверка гипотезы (alpha = 0.1):   Нет оснований отвергать H0   \n",
       "\n",
       "                                                          95   \\\n",
       "98                                                  21.204173   \n",
       "99                                                   14.23441   \n",
       "100                                                 12.494262   \n",
       "z-stat                                               -0.87864   \n",
       "z_crit (alpha = 0.01)                                2.575829   \n",
       "Проверка гипотезы (alpha = 0.01):  Нет оснований отвергать H0   \n",
       "z_crit (alpha = 0.05)                                1.959964   \n",
       "Проверка гипотезы (alpha = 0.05):  Нет оснований отвергать H0   \n",
       "z_crit (alpha = 0.1)                                 1.644854   \n",
       "Проверка гипотезы (alpha = 0.1):   Нет оснований отвергать H0   \n",
       "\n",
       "                                                          96   \\\n",
       "98                                                  12.797962   \n",
       "99                                                  14.051698   \n",
       "100                                                  16.82602   \n",
       "z-stat                                              -2.188891   \n",
       "z_crit (alpha = 0.01)                                2.575829   \n",
       "Проверка гипотезы (alpha = 0.01):  Нет оснований отвергать H0   \n",
       "z_crit (alpha = 0.05)                                1.959964   \n",
       "Проверка гипотезы (alpha = 0.05):              H0 отвергается   \n",
       "z_crit (alpha = 0.1)                                 1.644854   \n",
       "Проверка гипотезы (alpha = 0.1):               H0 отвергается   \n",
       "\n",
       "                                                          97   \\\n",
       "98                                                  22.652856   \n",
       "99                                                  11.572988   \n",
       "100                                                 21.601876   \n",
       "z-stat                                              -1.532481   \n",
       "z_crit (alpha = 0.01)                                2.575829   \n",
       "Проверка гипотезы (alpha = 0.01):  Нет оснований отвергать H0   \n",
       "z_crit (alpha = 0.05)                                1.959964   \n",
       "Проверка гипотезы (alpha = 0.05):  Нет оснований отвергать H0   \n",
       "z_crit (alpha = 0.1)                                 1.644854   \n",
       "Проверка гипотезы (alpha = 0.1):   Нет оснований отвергать H0   \n",
       "\n",
       "                                                          98   \\\n",
       "98                                                  18.892147   \n",
       "99                                                  12.904893   \n",
       "100                                                 21.856851   \n",
       "z-stat                                              -1.846322   \n",
       "z_crit (alpha = 0.01)                                2.575829   \n",
       "Проверка гипотезы (alpha = 0.01):  Нет оснований отвергать H0   \n",
       "z_crit (alpha = 0.05)                                1.959964   \n",
       "Проверка гипотезы (alpha = 0.05):  Нет оснований отвергать H0   \n",
       "z_crit (alpha = 0.1)                                 1.644854   \n",
       "Проверка гипотезы (alpha = 0.1):               H0 отвергается   \n",
       "\n",
       "                                                          99   \\\n",
       "98                                                  18.418697   \n",
       "99                                                  19.318501   \n",
       "100                                                 24.643048   \n",
       "z-stat                                               0.180983   \n",
       "z_crit (alpha = 0.01)                                2.575829   \n",
       "Проверка гипотезы (alpha = 0.01):  Нет оснований отвергать H0   \n",
       "z_crit (alpha = 0.05)                                1.959964   \n",
       "Проверка гипотезы (alpha = 0.05):  Нет оснований отвергать H0   \n",
       "z_crit (alpha = 0.1)                                 1.644854   \n",
       "Проверка гипотезы (alpha = 0.1):   Нет оснований отвергать H0   \n",
       "\n",
       "                                                          100  \n",
       "98                                                  18.017699  \n",
       "99                                                  17.172592  \n",
       "100                                                   6.87712  \n",
       "z-stat                                              -1.367906  \n",
       "z_crit (alpha = 0.01)                                2.575829  \n",
       "Проверка гипотезы (alpha = 0.01):  Нет оснований отвергать H0  \n",
       "z_crit (alpha = 0.05)                                1.959964  \n",
       "Проверка гипотезы (alpha = 0.05):  Нет оснований отвергать H0  \n",
       "z_crit (alpha = 0.1)                                 1.644854  \n",
       "Проверка гипотезы (alpha = 0.1):   Нет оснований отвергать H0  \n",
       "\n",
       "[10 rows x 100 columns]"
      ]
     },
     "execution_count": 90,
     "metadata": {},
     "output_type": "execute_result"
    }
   ],
   "source": [
    "dt.loc['Проверка гипотезы (alpha = 0.1):'] = ''\n",
    "for i in range(1, 101):\n",
    "    if dt[i].loc['z-stat'] > z_crit or dt[i].loc['z-stat'] < -z_crit:\n",
    "        dt[i].loc['Проверка гипотезы (alpha = 0.1):'] = 'H0 отвергается'\n",
    "    else:\n",
    "        dt[i].loc['Проверка гипотезы (alpha = 0.1):'] = 'Нет оснований отвергать H0'\n",
    "dt.tail(10)"
   ]
  },
  {
   "cell_type": "code",
   "execution_count": 91,
   "id": "08305655",
   "metadata": {},
   "outputs": [],
   "source": [
    "def dol(x):\n",
    "    answers = 0\n",
    "    for i in range(1, 101):\n",
    "        if dt[i].loc[x] == 'Нет оснований отвергать H0':\n",
    "            answers +=1\n",
    "    num = answers/100\n",
    "    return print('Доля правильных ответов = ', num, end='')"
   ]
  },
  {
   "cell_type": "code",
   "execution_count": 92,
   "id": "ecd611ec",
   "metadata": {},
   "outputs": [
    {
     "name": "stdout",
     "output_type": "stream",
     "text": [
      "Доля правильных ответов =  1.0 (для alpha = 0.01)\n",
      "Доля правильных ответов =  0.97 (для alpha = 0.05)\n",
      "Доля правильных ответов =  0.9 (для alpha = 0.1)\n"
     ]
    }
   ],
   "source": [
    "dol('Проверка гипотезы (alpha = 0.01):')\n",
    "print (' (для alpha = 0.01)')\n",
    "dol('Проверка гипотезы (alpha = 0.05):')\n",
    "print (' (для alpha = 0.05)')\n",
    "dol('Проверка гипотезы (alpha = 0.1):')\n",
    "print (' (для alpha = 0.1)')"
   ]
  }
 ],
 "metadata": {
  "kernelspec": {
   "display_name": "Python 3 (ipykernel)",
   "language": "python",
   "name": "python3"
  },
  "language_info": {
   "codemirror_mode": {
    "name": "ipython",
    "version": 3
   },
   "file_extension": ".py",
   "mimetype": "text/x-python",
   "name": "python",
   "nbconvert_exporter": "python",
   "pygments_lexer": "ipython3",
   "version": "3.11.5"
  }
 },
 "nbformat": 4,
 "nbformat_minor": 5
}
